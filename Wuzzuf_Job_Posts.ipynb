{
  "nbformat": 4,
  "nbformat_minor": 0,
  "metadata": {
    "colab": {
      "name": "Ultimate-Project.ipynb",
      "provenance": [],
      "collapsed_sections": []
    },
    "kernelspec": {
      "name": "python3",
      "display_name": "Python 3"
    }
  },
  "cells": [
    {
      "cell_type": "markdown",
      "metadata": {
        "id": "rLlGw2tXWlit"
      },
      "source": [
        "# Part 1: Data Cleaning"
      ]
    },
    {
      "cell_type": "markdown",
      "metadata": {
        "id": "T-gLvkY6Wrz-"
      },
      "source": [
        "Importing Packages"
      ]
    },
    {
      "cell_type": "code",
      "metadata": {
        "id": "cM7sxnaSWNON"
      },
      "source": [
        "import numpy as np\n",
        "import pandas as pd\n",
        "import matplotlib.pyplot as plt\n",
        "import re"
      ],
      "execution_count": null,
      "outputs": []
    },
    {
      "cell_type": "markdown",
      "metadata": {
        "id": "oP0gvCv8W3Ri"
      },
      "source": [
        "Getting Data"
      ]
    },
    {
      "cell_type": "code",
      "metadata": {
        "colab": {
          "resources": {
            "http://localhost:8080/nbextensions/google.colab/files.js": {
              "data": "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",
              "ok": true,
              "headers": [
                [
                  "content-type",
                  "application/javascript"
                ]
              ],
              "status": 200,
              "status_text": ""
            }
          },
          "base_uri": "https://localhost:8080/",
          "height": 89
        },
        "id": "4jCBUgCYW2K5",
        "outputId": "2ac19569-4528-49e6-abcb-0eb7cc87df50"
      },
      "source": [
        " ! pip install -q kaggle\n",
        " from google.colab import files\n",
        " files.upload()"
      ],
      "execution_count": null,
      "outputs": [
        {
          "output_type": "display_data",
          "data": {
            "text/html": [
              "\n",
              "     <input type=\"file\" id=\"files-97fa5ea1-d406-4f7d-a2e9-b843aa6b1ecb\" name=\"files[]\" multiple disabled\n",
              "        style=\"border:none\" />\n",
              "     <output id=\"result-97fa5ea1-d406-4f7d-a2e9-b843aa6b1ecb\">\n",
              "      Upload widget is only available when the cell has been executed in the\n",
              "      current browser session. Please rerun this cell to enable.\n",
              "      </output>\n",
              "      <script src=\"/nbextensions/google.colab/files.js\"></script> "
            ],
            "text/plain": [
              "<IPython.core.display.HTML object>"
            ]
          },
          "metadata": {
            "tags": []
          }
        },
        {
          "output_type": "stream",
          "text": [
            "Saving kaggle.json to kaggle.json\n"
          ],
          "name": "stdout"
        },
        {
          "output_type": "execute_result",
          "data": {
            "text/plain": [
              "{'kaggle.json': b'{\"username\":\"alimahmoud01\",\"key\":\"74457ab7c61e9a5b29d1ecde27de8e0f\"}'}"
            ]
          },
          "metadata": {
            "tags": []
          },
          "execution_count": 2
        }
      ]
    },
    {
      "cell_type": "code",
      "metadata": {
        "id": "jz2f77s5YB3l",
        "colab": {
          "base_uri": "https://localhost:8080/"
        },
        "outputId": "edb24fd5-6fc5-47f4-c09e-e387cf6a0d31"
      },
      "source": [
        "! mkdir ~/.kaggle\n",
        "! cp kaggle.json ~/.kaggle/\n",
        "! chmod 600 ~/.kaggle/kaggle.json\n",
        "!kaggle datasets download \"WUZZUF/wuzzuf-job-posts\"\n",
        "!unzip wuzzuf-job-posts.zip"
      ],
      "execution_count": null,
      "outputs": [
        {
          "output_type": "stream",
          "text": [
            "Downloading wuzzuf-job-posts.zip to /content\n",
            "100% 40.4M/40.4M [00:02<00:00, 8.95MB/s]\n",
            "\n",
            "Archive:  wuzzuf-job-posts.zip\n",
            "  inflating: Wuzzuf_Applications_Sample.csv  \n",
            "  inflating: Wuzzuf_Job_Posts_Sample.csv  \n"
          ],
          "name": "stdout"
        }
      ]
    },
    {
      "cell_type": "markdown",
      "metadata": {
        "id": "TXpB_5geOa7r"
      },
      "source": [
        "## Let's list the data issues here\n",
        "\n",
        "### Quality\n",
        "1- post_date is string instead of date-time\n",
        "\n",
        "2- Job Description contains HTML tags and HTML special characters\n",
        "\n",
        "3- Job Requirements contains HTML tags and HTML special characters\n",
        "\n",
        "4- Missing Values in Job Description\n",
        "\n",
        "5- Missing Values in Job Requirements\n",
        "\n",
        "6- some salaries are 0\n",
        "\n",
        "7- Missing Values in Job Category named \"Select\"\n",
        "\n",
        "8- Missing Values in Job industry named \"Select\"\n",
        "\n",
        "9- experience_years contains inconsistent data\n",
        "\n",
        "\n",
        "### Tidiness\n",
        "1- Job Categories are split over three columns\n",
        "\n",
        "2- Job Industries are split over three columns"
      ]
    },
    {
      "cell_type": "markdown",
      "metadata": {
        "id": "freGux3GM5zO"
      },
      "source": [
        "Reading Data"
      ]
    },
    {
      "cell_type": "code",
      "metadata": {
        "id": "2w3AByiYa-Sr"
      },
      "source": [
        "data = pd.read_csv('Wuzzuf_Job_Posts_Sample.csv')\n",
        "\n",
        "data_clean = data.copy() # Make copy of the original data"
      ],
      "execution_count": null,
      "outputs": []
    },
    {
      "cell_type": "markdown",
      "metadata": {
        "id": "nNe3fdNicn2w"
      },
      "source": [
        "Let's take a look at the data"
      ]
    },
    {
      "cell_type": "code",
      "metadata": {
        "id": "DokwS4apb_El",
        "colab": {
          "base_uri": "https://localhost:8080/",
          "height": 796
        },
        "outputId": "2d7e591c-b0e1-4079-a0f8-13fba5e62a1b"
      },
      "source": [
        "data_clean # Before Cleaning"
      ],
      "execution_count": null,
      "outputs": [
        {
          "output_type": "execute_result",
          "data": {
            "text/html": [
              "<div>\n",
              "<style scoped>\n",
              "    .dataframe tbody tr th:only-of-type {\n",
              "        vertical-align: middle;\n",
              "    }\n",
              "\n",
              "    .dataframe tbody tr th {\n",
              "        vertical-align: top;\n",
              "    }\n",
              "\n",
              "    .dataframe thead th {\n",
              "        text-align: right;\n",
              "    }\n",
              "</style>\n",
              "<table border=\"1\" class=\"dataframe\">\n",
              "  <thead>\n",
              "    <tr style=\"text-align: right;\">\n",
              "      <th></th>\n",
              "      <th>id</th>\n",
              "      <th>city</th>\n",
              "      <th>job_title</th>\n",
              "      <th>job_category1</th>\n",
              "      <th>job_category2</th>\n",
              "      <th>job_category3</th>\n",
              "      <th>job_industry1</th>\n",
              "      <th>job_industry2</th>\n",
              "      <th>job_industry3</th>\n",
              "      <th>salary_minimum</th>\n",
              "      <th>salary_maximum</th>\n",
              "      <th>num_vacancies</th>\n",
              "      <th>career_level</th>\n",
              "      <th>experience_years</th>\n",
              "      <th>post_date</th>\n",
              "      <th>views</th>\n",
              "      <th>job_description</th>\n",
              "      <th>job_requirements</th>\n",
              "      <th>payment_period</th>\n",
              "      <th>currency</th>\n",
              "    </tr>\n",
              "  </thead>\n",
              "  <tbody>\n",
              "    <tr>\n",
              "      <th>0</th>\n",
              "      <td>516e4ed</td>\n",
              "      <td>Ciro</td>\n",
              "      <td>Sales &amp; Marketing Agent</td>\n",
              "      <td>Sales/Retail/Business Development</td>\n",
              "      <td>Marketing</td>\n",
              "      <td>Select</td>\n",
              "      <td>Telecommunications Services</td>\n",
              "      <td>Select</td>\n",
              "      <td>Select</td>\n",
              "      <td>2000</td>\n",
              "      <td>3500</td>\n",
              "      <td>8</td>\n",
              "      <td>Entry Level</td>\n",
              "      <td>0-1</td>\n",
              "      <td>2014-01-01 06:01:41</td>\n",
              "      <td>2602</td>\n",
              "      <td>&lt;p&gt;&lt;strong&gt;Qualifications&lt;/strong&gt;:&lt;br /&gt;&lt;br /...</td>\n",
              "      <td>NaN</td>\n",
              "      <td>Per Month</td>\n",
              "      <td>Egyptian Pound</td>\n",
              "    </tr>\n",
              "    <tr>\n",
              "      <th>1</th>\n",
              "      <td>a361ef59</td>\n",
              "      <td>Cairo</td>\n",
              "      <td>German Training Coordinator</td>\n",
              "      <td>Customer Service/Support</td>\n",
              "      <td>Administration</td>\n",
              "      <td>Human Resources</td>\n",
              "      <td>Translation and Localization</td>\n",
              "      <td>Business Services - Other</td>\n",
              "      <td>Education</td>\n",
              "      <td>1000</td>\n",
              "      <td>5000</td>\n",
              "      <td>8</td>\n",
              "      <td>Entry Level</td>\n",
              "      <td>0-2</td>\n",
              "      <td>2014-01-01 20:01:18</td>\n",
              "      <td>2213</td>\n",
              "      <td>&lt;p&gt;&amp;bull;Placing jobs' ads on various websites...</td>\n",
              "      <td>NaN</td>\n",
              "      <td>Per Month</td>\n",
              "      <td>Egyptian Pound</td>\n",
              "    </tr>\n",
              "    <tr>\n",
              "      <th>2</th>\n",
              "      <td>7226ce78</td>\n",
              "      <td>Cairo</td>\n",
              "      <td>Junior Software Developer</td>\n",
              "      <td>IT/Software Development</td>\n",
              "      <td>Select</td>\n",
              "      <td>Select</td>\n",
              "      <td>Computer Software</td>\n",
              "      <td>Select</td>\n",
              "      <td>Select</td>\n",
              "      <td>2000</td>\n",
              "      <td>2500</td>\n",
              "      <td>1</td>\n",
              "      <td>Entry Level</td>\n",
              "      <td>2</td>\n",
              "      <td>2014-01-02 11:01:03</td>\n",
              "      <td>2940</td>\n",
              "      <td>&lt;span style=\"text-decoration: underline;\"&gt;&lt;str...</td>\n",
              "      <td>NaN</td>\n",
              "      <td>Per Month</td>\n",
              "      <td>Egyptian Pound</td>\n",
              "    </tr>\n",
              "    <tr>\n",
              "      <th>3</th>\n",
              "      <td>f4b2bcd6</td>\n",
              "      <td>Cairo</td>\n",
              "      <td>Application Support Engineer</td>\n",
              "      <td>IT/Software Development</td>\n",
              "      <td>Select</td>\n",
              "      <td>Select</td>\n",
              "      <td>Telecommunications Services</td>\n",
              "      <td>Select</td>\n",
              "      <td>Select</td>\n",
              "      <td>2000</td>\n",
              "      <td>3500</td>\n",
              "      <td>1</td>\n",
              "      <td>Entry Level</td>\n",
              "      <td>1-2</td>\n",
              "      <td>2014-01-02 12:01:23</td>\n",
              "      <td>2042</td>\n",
              "      <td>&lt;strong&gt;&lt;span style=\"text-decoration: underlin...</td>\n",
              "      <td>NaN</td>\n",
              "      <td>Per Month</td>\n",
              "      <td>Egyptian Pound</td>\n",
              "    </tr>\n",
              "    <tr>\n",
              "      <th>4</th>\n",
              "      <td>3fee6f73</td>\n",
              "      <td>Alexandria</td>\n",
              "      <td>Electrical Maintenance Engineer</td>\n",
              "      <td>Engineering</td>\n",
              "      <td>Select</td>\n",
              "      <td>Select</td>\n",
              "      <td>Food and Beverage Production</td>\n",
              "      <td>Select</td>\n",
              "      <td>Select</td>\n",
              "      <td>5000</td>\n",
              "      <td>8000</td>\n",
              "      <td>1</td>\n",
              "      <td>Experienced (Non-Manager)</td>\n",
              "      <td>1-3</td>\n",
              "      <td>2014-01-21 13:45:56</td>\n",
              "      <td>5684</td>\n",
              "      <td>Job Title: Electrical Maintenance Engineer&lt;br ...</td>\n",
              "      <td>NaN</td>\n",
              "      <td>Per Month</td>\n",
              "      <td>Egyptian Pound</td>\n",
              "    </tr>\n",
              "    <tr>\n",
              "      <th>...</th>\n",
              "      <td>...</td>\n",
              "      <td>...</td>\n",
              "      <td>...</td>\n",
              "      <td>...</td>\n",
              "      <td>...</td>\n",
              "      <td>...</td>\n",
              "      <td>...</td>\n",
              "      <td>...</td>\n",
              "      <td>...</td>\n",
              "      <td>...</td>\n",
              "      <td>...</td>\n",
              "      <td>...</td>\n",
              "      <td>...</td>\n",
              "      <td>...</td>\n",
              "      <td>...</td>\n",
              "      <td>...</td>\n",
              "      <td>...</td>\n",
              "      <td>...</td>\n",
              "      <td>...</td>\n",
              "      <td>...</td>\n",
              "    </tr>\n",
              "    <tr>\n",
              "      <th>21845</th>\n",
              "      <td>cbbac897</td>\n",
              "      <td>Cairo</td>\n",
              "      <td>Creative Designer</td>\n",
              "      <td>Creative/Design</td>\n",
              "      <td>Select</td>\n",
              "      <td>Select</td>\n",
              "      <td>Media Production</td>\n",
              "      <td>Graphic Design</td>\n",
              "      <td>Advertising and PR Services</td>\n",
              "      <td>5000</td>\n",
              "      <td>6000</td>\n",
              "      <td>1</td>\n",
              "      <td>Experienced (Non-Manager)</td>\n",
              "      <td>1-4</td>\n",
              "      <td>2016-05-19 10:05:23</td>\n",
              "      <td>0</td>\n",
              "      <td>&amp;bull; Create advertising creative concepts fo...</td>\n",
              "      <td>&amp;bull; 1-4 years web/graphic design experience...</td>\n",
              "      <td>Per Month</td>\n",
              "      <td>Egyptian Pound</td>\n",
              "    </tr>\n",
              "    <tr>\n",
              "      <th>21846</th>\n",
              "      <td>7724db49</td>\n",
              "      <td>Qalyubia</td>\n",
              "      <td>Health and Safety Manager - Qalyubia</td>\n",
              "      <td>Quality Assurance/Quality Control</td>\n",
              "      <td>Biotech/R&amp;D/Science</td>\n",
              "      <td>Select</td>\n",
              "      <td>Manufacturing</td>\n",
              "      <td>Import and Export</td>\n",
              "      <td>Select</td>\n",
              "      <td>5000</td>\n",
              "      <td>7000</td>\n",
              "      <td>1</td>\n",
              "      <td>Manager</td>\n",
              "      <td>5+</td>\n",
              "      <td>2016-05-19 10:05:56</td>\n",
              "      <td>6</td>\n",
              "      <td>Health and Safety Managers are also known as o...</td>\n",
              "      <td>&lt;ul&gt;\\r\\n&lt;li&gt;At least 5 years of experience&lt;/li...</td>\n",
              "      <td>Per Month</td>\n",
              "      <td>Egyptian Pound</td>\n",
              "    </tr>\n",
              "    <tr>\n",
              "      <th>21847</th>\n",
              "      <td>a6911086</td>\n",
              "      <td>Cairo</td>\n",
              "      <td>Marketing and Sales specialist</td>\n",
              "      <td>Administration</td>\n",
              "      <td>Marketing</td>\n",
              "      <td>Sales/Retail/Business Development</td>\n",
              "      <td>Architectural and Design Services</td>\n",
              "      <td>Construction - Residential &amp; Commercial/Office</td>\n",
              "      <td>Engineering Services</td>\n",
              "      <td>2000</td>\n",
              "      <td>4000</td>\n",
              "      <td>1</td>\n",
              "      <td>Entry Level</td>\n",
              "      <td>&lt;1</td>\n",
              "      <td>2016-05-19 10:05:33</td>\n",
              "      <td>2</td>\n",
              "      <td>&lt;p&gt;&lt;strong&gt;Job Description:&lt;/strong&gt;&lt;/p&gt;\\r\\n&lt;u...</td>\n",
              "      <td>NaN</td>\n",
              "      <td>Per Month</td>\n",
              "      <td>Egyptian Pound</td>\n",
              "    </tr>\n",
              "    <tr>\n",
              "      <th>21848</th>\n",
              "      <td>6dcdc323</td>\n",
              "      <td>Cairo</td>\n",
              "      <td>E Markting</td>\n",
              "      <td>Marketing</td>\n",
              "      <td>Select</td>\n",
              "      <td>Select</td>\n",
              "      <td>Information Technology Services</td>\n",
              "      <td>Marketing and Advertising</td>\n",
              "      <td>Select</td>\n",
              "      <td>1000</td>\n",
              "      <td>1000</td>\n",
              "      <td>2</td>\n",
              "      <td>Student</td>\n",
              "      <td>0 to 1</td>\n",
              "      <td>2016-05-19 10:05:56</td>\n",
              "      <td>6</td>\n",
              "      <td>We are looking for E- marketing rep-mail accou...</td>\n",
              "      <td>e-markting rep : 1-&lt;br /&gt;Collate and Writing d...</td>\n",
              "      <td>Per Month</td>\n",
              "      <td>Egyptian Pound</td>\n",
              "    </tr>\n",
              "    <tr>\n",
              "      <th>21849</th>\n",
              "      <td>eb59b18d</td>\n",
              "      <td>Cairo</td>\n",
              "      <td>Microsoft Product Manager</td>\n",
              "      <td>IT/Software Development</td>\n",
              "      <td>Marketing</td>\n",
              "      <td>Sales/Retail/Business Development</td>\n",
              "      <td>Computer/IT Services</td>\n",
              "      <td>Information Technology Services</td>\n",
              "      <td>Computer and Network Security</td>\n",
              "      <td>6000</td>\n",
              "      <td>8000</td>\n",
              "      <td>2</td>\n",
              "      <td>Experienced (Non-Manager)</td>\n",
              "      <td>3 :5</td>\n",
              "      <td>2016-05-19 10:05:15</td>\n",
              "      <td>2</td>\n",
              "      <td>- Identify new areas / lines of business that ...</td>\n",
              "      <td>Education: Bachelor&amp;rsquo;s degree in Electric...</td>\n",
              "      <td>Per Month</td>\n",
              "      <td>Egyptian Pound</td>\n",
              "    </tr>\n",
              "  </tbody>\n",
              "</table>\n",
              "<p>21850 rows × 20 columns</p>\n",
              "</div>"
            ],
            "text/plain": [
              "             id        city  ... payment_period        currency\n",
              "0       516e4ed        Ciro  ...      Per Month  Egyptian Pound\n",
              "1      a361ef59       Cairo  ...      Per Month  Egyptian Pound\n",
              "2      7226ce78       Cairo  ...      Per Month  Egyptian Pound\n",
              "3      f4b2bcd6       Cairo  ...      Per Month  Egyptian Pound\n",
              "4      3fee6f73  Alexandria  ...      Per Month  Egyptian Pound\n",
              "...         ...         ...  ...            ...             ...\n",
              "21845  cbbac897       Cairo  ...      Per Month  Egyptian Pound\n",
              "21846  7724db49    Qalyubia  ...      Per Month  Egyptian Pound\n",
              "21847  a6911086       Cairo  ...      Per Month  Egyptian Pound\n",
              "21848  6dcdc323       Cairo  ...      Per Month  Egyptian Pound\n",
              "21849  eb59b18d       Cairo  ...      Per Month  Egyptian Pound\n",
              "\n",
              "[21850 rows x 20 columns]"
            ]
          },
          "metadata": {
            "tags": []
          },
          "execution_count": 5
        }
      ]
    },
    {
      "cell_type": "code",
      "metadata": {
        "id": "GKYIinfAgIuM",
        "colab": {
          "base_uri": "https://localhost:8080/"
        },
        "outputId": "4c6e3649-560d-47c2-ca7f-003f83b80131"
      },
      "source": [
        "data_clean.info(verbose=True)"
      ],
      "execution_count": null,
      "outputs": [
        {
          "output_type": "stream",
          "text": [
            "<class 'pandas.core.frame.DataFrame'>\n",
            "RangeIndex: 21850 entries, 0 to 21849\n",
            "Data columns (total 20 columns):\n",
            " #   Column            Non-Null Count  Dtype \n",
            "---  ------            --------------  ----- \n",
            " 0   id                21850 non-null  object\n",
            " 1   city              21850 non-null  object\n",
            " 2   job_title         21850 non-null  object\n",
            " 3   job_category1     21850 non-null  object\n",
            " 4   job_category2     21850 non-null  object\n",
            " 5   job_category3     21850 non-null  object\n",
            " 6   job_industry1     21850 non-null  object\n",
            " 7   job_industry2     21850 non-null  object\n",
            " 8   job_industry3     21850 non-null  object\n",
            " 9   salary_minimum    21850 non-null  int64 \n",
            " 10  salary_maximum    21850 non-null  int64 \n",
            " 11  num_vacancies     21850 non-null  int64 \n",
            " 12  career_level      21850 non-null  object\n",
            " 13  experience_years  21850 non-null  object\n",
            " 14  post_date         21850 non-null  object\n",
            " 15  views             21850 non-null  int64 \n",
            " 16  job_description   21576 non-null  object\n",
            " 17  job_requirements  19217 non-null  object\n",
            " 18  payment_period    21845 non-null  object\n",
            " 19  currency          21845 non-null  object\n",
            "dtypes: int64(4), object(16)\n",
            "memory usage: 3.3+ MB\n"
          ],
          "name": "stdout"
        }
      ]
    },
    {
      "cell_type": "markdown",
      "metadata": {
        "id": "ZA7Iwco6Q8ff"
      },
      "source": [
        "Convert post_date type to datetime"
      ]
    },
    {
      "cell_type": "code",
      "metadata": {
        "id": "YbWRdGyqRAh0"
      },
      "source": [
        "data_clean['post_date'] = pd.to_datetime(data_clean['post_date'])"
      ],
      "execution_count": null,
      "outputs": []
    },
    {
      "cell_type": "markdown",
      "metadata": {
        "id": "8NvVF5edhtpq"
      },
      "source": [
        "As we can see in the columns **job_description** and **job_requirements** there are html tags so we have to remove it."
      ]
    },
    {
      "cell_type": "code",
      "metadata": {
        "id": "1KzNZ-4qhiVf"
      },
      "source": [
        "# replace html tags and html special characters using regex\n",
        "data_clean['job_description'] = data_clean['job_description'].str.replace('(<[^>]*>|\\\\r|\\\\n|&.*;)', '',regex=True, case=False) # For job_description column\n",
        "data_clean['job_requirements'] = data_clean['job_requirements'].str.replace('(<[^>]*>|\\\\r|\\\\n|&.*;)', '',regex=True, case=False) # For job_requirements column"
      ],
      "execution_count": null,
      "outputs": []
    },
    {
      "cell_type": "markdown",
      "metadata": {
        "id": "GWSZa9lFlrbh"
      },
      "source": [
        "We can notice there are null values so let's replace it with a good description."
      ]
    },
    {
      "cell_type": "code",
      "metadata": {
        "id": "oRuS-dvik0BQ"
      },
      "source": [
        "data_clean['job_description'].fillna('There is no description', inplace=True) # For job_description column\n",
        "data_clean['job_requirements'].fillna('Unknown requirements', inplace=True) # For job_requirements column"
      ],
      "execution_count": null,
      "outputs": []
    },
    {
      "cell_type": "markdown",
      "metadata": {
        "id": "ENnQBOV1py9d"
      },
      "source": [
        "Now **job_description** and **job_requirements** are clean from html tags and html special characters."
      ]
    },
    {
      "cell_type": "code",
      "metadata": {
        "id": "Ei4FneRomL4f",
        "colab": {
          "base_uri": "https://localhost:8080/"
        },
        "outputId": "0673c0e9-55d1-4530-ac87-42840312523c"
      },
      "source": [
        "data_clean['job_description']"
      ],
      "execution_count": null,
      "outputs": [
        {
          "output_type": "execute_result",
          "data": {
            "text/plain": [
              "0        Qualifications:  Demonstrates a positive, enth...\n",
              "1        Ability to build excellent relations.Job Quali...\n",
              "2        1. JOB SUMMARY\">2. SKILLS REQUIRED\">3.JOB DUTI...\n",
              "3        Position, Experience and skills required:One o...\n",
              "4        Job Title: Electrical Maintenance EngineerLoca...\n",
              "                               ...                        \n",
              "21845     Participate in social media content and desig...\n",
              "21846    Health and Safety Managers are also known as o...\n",
              "21847    Job Description:Achieves marketing and sales o...\n",
              "21848    We are looking for E- marketing rep-mail accou...\n",
              "21849    - Identify new areas / lines of business that ...\n",
              "Name: job_description, Length: 21850, dtype: object"
            ]
          },
          "metadata": {
            "tags": []
          },
          "execution_count": 10
        }
      ]
    },
    {
      "cell_type": "code",
      "metadata": {
        "id": "YM-wjCoCqkYn",
        "colab": {
          "base_uri": "https://localhost:8080/"
        },
        "outputId": "85dc0c11-ffb4-4100-cad5-db573adedf7d"
      },
      "source": [
        "data_clean['job_requirements']"
      ],
      "execution_count": null,
      "outputs": [
        {
          "output_type": "execute_result",
          "data": {
            "text/plain": [
              "0                                     Unknown requirements\n",
              "1                                     Unknown requirements\n",
              "2                                     Unknown requirements\n",
              "3                                     Unknown requirements\n",
              "4                                     Unknown requirements\n",
              "                               ...                        \n",
              "21845     Superior communication skills, organized and ...\n",
              "21846                       At least 5 years of experience\n",
              "21847                                 Unknown requirements\n",
              "21848    e-markting rep : 1-Collate and Writing daily r...\n",
              "21849    Education: Bachelors degree in Electrical Engi...\n",
              "Name: job_requirements, Length: 21850, dtype: object"
            ]
          },
          "metadata": {
            "tags": []
          },
          "execution_count": 11
        }
      ]
    },
    {
      "cell_type": "markdown",
      "metadata": {
        "id": "1_V2dAEPwaqA"
      },
      "source": [
        "Now we can notice there are also salaries with 0 value, \n",
        "so we will replace it by the mean of the salaries"
      ]
    },
    {
      "cell_type": "code",
      "metadata": {
        "id": "4qNfHV-7wZMU"
      },
      "source": [
        "salary_minimum_mean = int( data_clean['salary_minimum'].mean() ) # Mean for salary_minimum\n",
        "data_clean['salary_minimum'] = data_clean['salary_minimum'].replace(0, salary_minimum_mean) # replace all zeros with the mean of salary_minimum\n",
        "\n",
        "salary_maximum_mean = int( data_clean['salary_maximum'].mean() ) # Mean for salary_maximum\n",
        "data_clean['salary_maximum'] = data_clean['salary_maximum'].replace(0, salary_maximum_mean) # replace all zeros with the mean of salary_minimum"
      ],
      "execution_count": null,
      "outputs": []
    },
    {
      "cell_type": "markdown",
      "metadata": {
        "id": "9j2w4gnABhmt"
      },
      "source": [
        "there are missing values in **job_category1**, **job_category2** and **job_category3**  (Select)"
      ]
    },
    {
      "cell_type": "markdown",
      "metadata": {
        "id": "1ptD7miDFsH3"
      },
      "source": [
        "we will merge the 3 columns into 1 column (**job_category**) to handle the missing values"
      ]
    },
    {
      "cell_type": "markdown",
      "metadata": {
        "id": "URitEXXqGzK_"
      },
      "source": [
        "first we will merge the 3 columns as a list to remove **' , Select'** faster"
      ]
    },
    {
      "cell_type": "code",
      "metadata": {
        "id": "kZtS9S3K6bYc"
      },
      "source": [
        "job_temp = list(data_clean['job_category1'] + ' , ' \n",
        "                + data_clean['job_category2'] + ' , '\n",
        "                + data_clean['job_category3'])\n",
        "\n",
        "for i in range(len(job_temp)):\n",
        "    job_temp[i] = job_temp[i].replace(' , Select','').replace('/', ' , ') # remove \"select\" and replace \"/\" by \",\""
      ],
      "execution_count": null,
      "outputs": []
    },
    {
      "cell_type": "code",
      "metadata": {
        "id": "4ZJx8K9fCHa3",
        "colab": {
          "base_uri": "https://localhost:8080/"
        },
        "outputId": "afbae0be-0836-4316-f4c6-378e0bde4bd5"
      },
      "source": [
        "job_temp"
      ],
      "execution_count": null,
      "outputs": [
        {
          "output_type": "execute_result",
          "data": {
            "text/plain": [
              "['Sales , Retail , Business Development , Marketing',\n",
              " 'Customer Service , Support , Administration , Human Resources',\n",
              " 'IT , Software Development',\n",
              " 'IT , Software Development',\n",
              " 'Engineering',\n",
              " 'IT , Software Development',\n",
              " 'IT , Software Development',\n",
              " 'Engineering',\n",
              " 'IT , Software Development , Engineering',\n",
              " 'Engineering',\n",
              " 'Creative , Design',\n",
              " 'Engineering',\n",
              " 'IT , Software Development , Quality Assurance , Quality Control',\n",
              " 'IT , Software Development',\n",
              " 'Engineering',\n",
              " 'Customer Service , Support , Administration',\n",
              " 'IT , Software Development',\n",
              " 'Customer Service , Support , Management , Sales , Retail , Business Development',\n",
              " 'Medical , Marketing , Sales , Retail , Business Development',\n",
              " 'Sales , Retail , Business Development , Marketing',\n",
              " 'Food Services , Hospitality , Customer Service , Support , Management',\n",
              " 'Customer Service , Support',\n",
              " 'Customer Service , Support , Sales , Retail , Business Development',\n",
              " 'Management , Project , Program Management , Administration',\n",
              " 'Sales , Retail , Business Development , IT , Software Development , Marketing',\n",
              " 'Marketing , Sales , Retail , Business Development',\n",
              " 'Engineering',\n",
              " 'IT , Software Development',\n",
              " 'IT , Software Development , Quality Assurance , Quality Control , Engineering',\n",
              " 'IT , Software Development , Engineering',\n",
              " 'Editorial , Writing , IT , Software Development',\n",
              " 'Creative , Design',\n",
              " 'IT , Software Development',\n",
              " 'IT , Software Development',\n",
              " 'Quality Assurance , Quality Control , IT , Software Development',\n",
              " 'Engineering , Sales , Retail , Business Development',\n",
              " 'Customer Service , Support',\n",
              " 'IT , Software Development , Creative , Design',\n",
              " 'IT , Software Development , Customer Service , Support',\n",
              " 'Customer Service , Support , Sales , Retail , Business Development',\n",
              " 'Manufacturing , Production , Operations , Installation , Maintenance , Repair',\n",
              " 'Manufacturing , Production , Operations , Installation , Maintenance , Repair',\n",
              " 'Manufacturing , Production , Operations , Installation , Maintenance , Repair',\n",
              " 'Installation , Maintenance , Repair',\n",
              " 'Customer Service , Support',\n",
              " 'Customer Service , Support',\n",
              " 'IT , Software Development , Customer Service , Support',\n",
              " 'Sales , Retail , Business Development , Marketing',\n",
              " 'Engineering',\n",
              " 'Sales , Retail , Business Development , Marketing',\n",
              " 'Customer Service , Support , Sales , Retail , Business Development , Administration',\n",
              " 'Engineering',\n",
              " 'Engineering , Manufacturing , Production , Operations',\n",
              " 'IT , Software Development',\n",
              " 'IT , Software Development',\n",
              " 'Marketing , Editorial , Writing',\n",
              " 'Sales , Retail , Business Development , Customer Service , Support',\n",
              " 'Engineering',\n",
              " 'IT , Software Development',\n",
              " 'Marketing',\n",
              " 'Research , Marketing , Administration',\n",
              " 'Marketing',\n",
              " 'Sales , Retail , Business Development , Marketing',\n",
              " 'Project , Program Management , Administration',\n",
              " 'Creative , Design',\n",
              " 'Accounting , Finance , Insurance , Management , Engineering',\n",
              " 'Accounting , Finance , Insurance , Management , Engineering',\n",
              " 'Marketing',\n",
              " 'IT , Software Development , Engineering',\n",
              " 'Project , Program Management , IT , Software Development',\n",
              " 'Sales , Retail , Business Development , Customer Service , Support',\n",
              " 'Customer Service , Support',\n",
              " 'IT , Software Development , Engineering',\n",
              " 'IT , Software Development',\n",
              " 'Editorial , Writing , IT , Software Development',\n",
              " 'Administration , Business  , Research',\n",
              " 'Sales , Retail , Business Development , Customer Service , Support , Marketing',\n",
              " 'Sales , Retail , Business Development , Engineering',\n",
              " 'Engineering',\n",
              " 'Engineering',\n",
              " 'Project , Program Management , Administration',\n",
              " 'Research , Medical',\n",
              " 'IT , Software Development',\n",
              " 'Customer Service , Support',\n",
              " 'Marketing',\n",
              " 'Quality Assurance , Quality Control , Engineering , Marketing',\n",
              " 'IT , Software Development , Sales , Retail , Business Development',\n",
              " 'IT , Software Development',\n",
              " 'Customer Service , Support',\n",
              " 'Creative , Design',\n",
              " 'Creative , Design',\n",
              " 'Creative , Design',\n",
              " 'Marketing',\n",
              " 'Marketing',\n",
              " 'Education , Training , Editorial , Writing',\n",
              " 'IT , Software Development',\n",
              " 'IT , Software Development',\n",
              " 'Creative , Design',\n",
              " 'Customer Service , Support',\n",
              " 'Marketing , IT , Software Development',\n",
              " 'Education , Training , Editorial , Writing',\n",
              " 'IT , Software Development',\n",
              " 'Project , Program Management , Sales , Retail , Business Development , Marketing',\n",
              " 'IT , Software Development',\n",
              " 'Creative , Design , Research',\n",
              " 'IT , Software Development',\n",
              " 'IT , Software Development',\n",
              " 'Creative , Design',\n",
              " 'Quality Assurance , Quality Control , Engineering',\n",
              " 'IT , Software Development',\n",
              " 'IT , Software Development',\n",
              " 'IT , Software Development',\n",
              " 'Business  , Logistics , Transportation , Research',\n",
              " 'Marketing , Sales , Retail , Business Development , Customer Service , Support',\n",
              " 'Customer Service , Support',\n",
              " 'IT , Software Development',\n",
              " 'IT , Software Development , Sales , Retail , Business Development',\n",
              " 'IT , Software Development , Sales , Retail , Business Development',\n",
              " 'IT , Software Development',\n",
              " 'Marketing , Sales , Retail , Business Development',\n",
              " 'Engineering',\n",
              " 'IT , Software Development',\n",
              " 'Engineering',\n",
              " 'Sales , Retail , Business Development , Customer Service , Support',\n",
              " 'Creative , Design',\n",
              " 'Engineering',\n",
              " 'Education , Training , Administration , Project , Program Management',\n",
              " 'IT , Software Development',\n",
              " 'Marketing',\n",
              " 'Customer Service , Support',\n",
              " 'Sales , Retail , Business Development , Engineering , Installation , Maintenance , Repair',\n",
              " 'Installation , Maintenance , Repair , Engineering , Sales , Retail , Business Development',\n",
              " 'Installation , Maintenance , Repair , IT , Software Development',\n",
              " 'Project , Program Management , Customer Service , Support',\n",
              " 'Manufacturing , Production , Operations , Engineering',\n",
              " 'Editorial , Writing',\n",
              " 'Sales , Retail , Business Development , Marketing',\n",
              " 'IT , Software Development',\n",
              " 'Administration , Customer Service , Support , Sales , Retail , Business Development',\n",
              " 'IT , Software Development , Accounting , Finance , Insurance',\n",
              " 'Customer Service , Support',\n",
              " 'Engineering',\n",
              " 'Marketing',\n",
              " 'IT , Software Development',\n",
              " 'IT , Software Development',\n",
              " 'IT , Software Development',\n",
              " 'IT , Software Development',\n",
              " 'IT , Software Development',\n",
              " 'Customer Service , Support',\n",
              " 'Customer Service , Support',\n",
              " 'Engineering , Project , Program Management , Manufacturing , Production , Operations',\n",
              " 'IT , Software Development , Engineering',\n",
              " 'Marketing , Editorial , Writing , Project , Program Management',\n",
              " 'Marketing , Sales , Retail , Business Development',\n",
              " 'Administration , Research',\n",
              " 'IT , Software Development',\n",
              " 'Marketing',\n",
              " 'IT , Software Development , Quality Assurance , Quality Control',\n",
              " 'Engineering',\n",
              " 'IT , Software Development',\n",
              " 'IT , Software Development',\n",
              " 'Engineering',\n",
              " 'Engineering',\n",
              " 'IT , Software Development , Engineering',\n",
              " 'IT , Software Development , Administration',\n",
              " 'IT , Software Development , Creative , Design',\n",
              " 'IT , Software Development',\n",
              " 'Engineering',\n",
              " 'Engineering',\n",
              " 'Creative , Design',\n",
              " 'Engineering',\n",
              " 'Administration , Engineering',\n",
              " 'Sales , Retail , Business Development , Engineering',\n",
              " 'Engineering',\n",
              " 'Marketing , IT , Software Development , Research',\n",
              " 'Engineering',\n",
              " 'IT , Software Development',\n",
              " 'IT , Software Development',\n",
              " 'IT , Software Development',\n",
              " 'Engineering',\n",
              " 'Marketing , IT , Software Development , Research',\n",
              " 'Education , Training , IT , Software Development',\n",
              " 'Education , Training , IT , Software Development',\n",
              " 'IT , Software Development',\n",
              " 'IT , Software Development',\n",
              " 'IT , Software Development',\n",
              " 'IT , Software Development',\n",
              " 'IT , Software Development',\n",
              " 'Education , Training , IT , Software Development',\n",
              " 'IT , Software Development',\n",
              " 'IT , Software Development',\n",
              " 'Customer Service , Support',\n",
              " 'Sales , Retail , Business Development , Customer Service , Support',\n",
              " 'Customer Service , Support',\n",
              " 'IT , Software Development',\n",
              " 'Marketing , Sales , Retail , Business Development',\n",
              " 'IT , Software Development',\n",
              " 'IT , Software Development , Creative , Design',\n",
              " 'Marketing , Customer Service , Support , Sales , Retail , Business Development',\n",
              " 'Manufacturing , Production , Operations , Engineering',\n",
              " 'IT , Software Development',\n",
              " 'IT , Software Development',\n",
              " 'IT , Software Development',\n",
              " 'Marketing',\n",
              " 'Engineering',\n",
              " 'IT , Software Development',\n",
              " 'Editorial , Writing',\n",
              " 'Sales , Retail , Business Development , Customer Service , Support',\n",
              " 'Marketing',\n",
              " 'IT , Software Development',\n",
              " 'Editorial , Writing , Medical , Biotech , R&D , Science',\n",
              " 'Editorial , Writing',\n",
              " 'Creative , Design',\n",
              " 'Editorial , Writing , Marketing , Research',\n",
              " 'Marketing , IT , Software Development , Research',\n",
              " 'Customer Service , Support',\n",
              " 'Customer Service , Support',\n",
              " 'Customer Service , Support',\n",
              " 'Project , Program Management , Manufacturing , Production , Operations , IT , Software Development',\n",
              " 'Customer Service , Support',\n",
              " 'IT , Software Development',\n",
              " 'Engineering , Sales , Retail , Business Development',\n",
              " 'Administration , IT , Software Development',\n",
              " 'Editorial , Writing',\n",
              " 'IT , Software Development',\n",
              " 'IT , Software Development',\n",
              " 'IT , Software Development',\n",
              " 'Creative , Design , IT , Software Development',\n",
              " 'Engineering , IT , Software Development',\n",
              " 'Sales , Retail , Business Development , Marketing',\n",
              " 'Engineering',\n",
              " 'Marketing',\n",
              " 'Customer Service , Support , Sales , Retail , Business Development',\n",
              " 'IT , Software Development , Project , Program Management',\n",
              " 'Customer Service , Support , Administration',\n",
              " 'IT , Software Development , Creative , Design',\n",
              " 'IT , Software Development',\n",
              " 'Editorial , Writing',\n",
              " 'IT , Software Development',\n",
              " 'IT , Software Development',\n",
              " 'IT , Software Development',\n",
              " 'IT , Software Development',\n",
              " 'Creative , Design',\n",
              " 'Administration , Sales , Retail , Business Development , Marketing',\n",
              " 'Marketing , Sales , Retail , Business Development',\n",
              " 'IT , Software Development',\n",
              " 'Engineering',\n",
              " 'Engineering',\n",
              " 'Project , Program Management , Management , Sales , Retail , Business Development',\n",
              " 'Creative , Design , Administration',\n",
              " 'Sales , Retail , Business Development , Customer Service , Support',\n",
              " 'Engineering',\n",
              " 'IT , Software Development',\n",
              " 'Sales , Retail , Business Development , Customer Service , Support , Manufacturing , Production , Operations',\n",
              " 'Manufacturing , Production , Operations , Sales , Retail , Business Development , Customer Service , Support',\n",
              " 'Engineering , Installation , Maintenance , Repair',\n",
              " 'Customer Service , Support',\n",
              " 'Customer Service , Support',\n",
              " 'Customer Service , Support',\n",
              " 'Sales , Retail , Business Development , Customer Service , Support',\n",
              " 'Quality Assurance , Quality Control',\n",
              " 'Installation , Maintenance , Repair',\n",
              " 'IT , Software Development',\n",
              " 'Installation , Maintenance , Repair , IT , Software Development',\n",
              " 'Customer Service , Support , Administration , Human Resources',\n",
              " 'IT , Software Development',\n",
              " 'Creative , Design , IT , Software Development',\n",
              " 'Customer Service , Support',\n",
              " 'Engineering',\n",
              " 'Engineering',\n",
              " 'Engineering',\n",
              " 'Engineering',\n",
              " 'Engineering , Installation , Maintenance , Repair',\n",
              " 'Creative , Design',\n",
              " 'IT , Software Development',\n",
              " 'Sales , Retail , Business Development , Customer Service , Support',\n",
              " 'Customer Service , Support , Medical',\n",
              " 'Engineering , IT , Software Development',\n",
              " 'Engineering , Sales , Retail , Business Development',\n",
              " 'Marketing',\n",
              " 'Sales , Retail , Business Development , Engineering',\n",
              " 'Sales , Retail , Business Development , Quality Assurance , Quality Control',\n",
              " 'Sales , Retail , Business Development , Engineering',\n",
              " 'Marketing',\n",
              " 'Administration , Biotech , R&D , Science , Business ',\n",
              " 'Engineering',\n",
              " 'Editorial , Writing',\n",
              " 'IT , Software Development',\n",
              " 'Biotech , R&D , Science , Editorial , Writing',\n",
              " 'IT , Software Development',\n",
              " 'IT , Software Development',\n",
              " 'Marketing',\n",
              " 'IT , Software Development',\n",
              " 'Engineering',\n",
              " 'Project , Program Management , Administration',\n",
              " 'Marketing',\n",
              " 'IT , Software Development',\n",
              " 'Customer Service , Support , Sales , Retail , Business Development',\n",
              " 'Engineering',\n",
              " 'Marketing',\n",
              " 'Customer Service , Support',\n",
              " 'Accounting , Finance , Insurance , Biotech , R&D , Science',\n",
              " 'IT , Software Development',\n",
              " 'IT , Software Development',\n",
              " 'IT , Software Development',\n",
              " 'Marketing',\n",
              " 'Marketing , IT , Software Development',\n",
              " 'IT , Software Development',\n",
              " 'IT , Software Development',\n",
              " 'Creative , Design',\n",
              " 'Creative , Design',\n",
              " 'Sales , Retail , Business Development , Customer Service , Support',\n",
              " 'Customer Service , Support , Quality Assurance , Quality Control',\n",
              " 'IT , Software Development',\n",
              " 'Engineering',\n",
              " 'IT , Software Development',\n",
              " 'Marketing',\n",
              " 'IT , Software Development',\n",
              " 'IT , Software Development',\n",
              " 'Creative , Design',\n",
              " 'Engineering',\n",
              " 'Engineering , Sales , Retail , Business Development',\n",
              " 'IT , Software Development',\n",
              " 'IT , Software Development',\n",
              " 'IT , Software Development',\n",
              " 'Customer Service , Support',\n",
              " 'Creative , Design',\n",
              " 'Sales , Retail , Business Development , Customer Service , Support',\n",
              " 'Marketing , Editorial , Writing , Research',\n",
              " 'IT , Software Development , Project , Program Management',\n",
              " 'Editorial , Writing',\n",
              " 'Customer Service , Support , Sales , Retail , Business Development',\n",
              " 'IT , Software Development',\n",
              " 'IT , Software Development',\n",
              " 'Customer Service , Support , Installation , Maintenance , Repair , IT , Software Development',\n",
              " 'Customer Service , Support , Installation , Maintenance , Repair , IT , Software Development',\n",
              " 'Engineering',\n",
              " 'Engineering , Installation , Maintenance , Repair',\n",
              " 'IT , Software Development',\n",
              " 'Customer Service , Support',\n",
              " 'Project , Program Management , Marketing',\n",
              " 'Engineering , Installation , Maintenance , Repair',\n",
              " 'Quality Assurance , Quality Control , IT , Software Development',\n",
              " 'Quality Assurance , Quality Control , IT , Software Development',\n",
              " 'Quality Assurance , Quality Control , IT , Software Development',\n",
              " 'IT , Software Development',\n",
              " 'Sales , Retail , Business Development , Marketing',\n",
              " 'Engineering , Quality Assurance , Quality Control , Research',\n",
              " 'Engineering',\n",
              " 'Quality Assurance , Quality Control',\n",
              " 'Quality Assurance , Quality Control , Engineering',\n",
              " 'Quality Assurance , Quality Control , Manufacturing , Production , Operations',\n",
              " 'Quality Assurance , Quality Control , Manufacturing , Production , Operations',\n",
              " 'Engineering , Installation , Maintenance , Repair',\n",
              " 'IT , Software Development',\n",
              " 'Quality Assurance , Quality Control , Engineering',\n",
              " 'Engineering',\n",
              " 'IT , Software Development',\n",
              " 'Customer Service , Support',\n",
              " 'Sales , Retail , Business Development , Customer Service , Support',\n",
              " 'IT , Software Development',\n",
              " 'Engineering',\n",
              " 'Engineering , Management',\n",
              " 'Marketing',\n",
              " 'Creative , Design',\n",
              " 'Customer Service , Support , IT , Software Development',\n",
              " 'Marketing',\n",
              " 'Management , Engineering',\n",
              " 'Sales , Retail , Business Development , Creative , Design , Administration',\n",
              " 'IT , Software Development',\n",
              " 'IT , Software Development',\n",
              " 'Customer Service , Support , Sales , Retail , Business Development , Marketing',\n",
              " 'Project , Program Management , Manufacturing , Production , Operations , Engineering',\n",
              " 'Sales , Retail , Business Development , Marketing',\n",
              " 'IT , Software Development',\n",
              " 'Creative , Design',\n",
              " 'Medical , Quality Assurance , Quality Control',\n",
              " 'IT , Software Development',\n",
              " 'Education , Training , Editorial , Writing , Quality Assurance , Quality Control',\n",
              " 'IT , Software Development , Creative , Design',\n",
              " 'IT , Software Development , Engineering',\n",
              " 'Creative , Design',\n",
              " 'Customer Service , Support',\n",
              " 'Creative , Design , IT , Software Development , Research',\n",
              " 'IT , Software Development',\n",
              " 'Medical , Customer Service , Support',\n",
              " 'IT , Software Development',\n",
              " 'Marketing',\n",
              " 'Marketing , Sales , Retail , Business Development , Customer Service , Support',\n",
              " 'IT , Software Development',\n",
              " 'Customer Service , Support',\n",
              " 'Customer Service , Support , Sales , Retail , Business Development , Marketing',\n",
              " 'IT , Software Development',\n",
              " 'IT , Software Development',\n",
              " 'IT , Software Development',\n",
              " 'Creative , Design , IT , Software Development',\n",
              " 'IT , Software Development',\n",
              " 'IT , Software Development',\n",
              " 'Installation , Maintenance , Repair , IT , Software Development',\n",
              " 'Customer Service , Support , Sales , Retail , Business Development , Marketing',\n",
              " 'Customer Service , Support',\n",
              " 'Customer Service , Support , Sales , Retail , Business Development , Marketing',\n",
              " 'Customer Service , Support , IT , Software Development',\n",
              " 'Customer Service , Support',\n",
              " 'Sales , Retail , Business Development , Customer Service , Support',\n",
              " 'Administration , Project , Program Management',\n",
              " 'Creative , Design',\n",
              " 'Creative , Design , Marketing',\n",
              " 'Editorial , Writing',\n",
              " 'Creative , Design',\n",
              " 'Engineering',\n",
              " 'Engineering',\n",
              " 'Marketing , Sales , Retail , Business Development',\n",
              " 'Creative , Design , IT , Software Development',\n",
              " 'Engineering , IT , Software Development',\n",
              " 'IT , Software Development',\n",
              " 'IT , Software Development',\n",
              " 'Creative , Design',\n",
              " 'Sales , Retail , Business Development , Engineering',\n",
              " 'IT , Software Development',\n",
              " 'IT , Software Development , Engineering',\n",
              " 'IT , Software Development , Engineering',\n",
              " 'IT , Software Development',\n",
              " 'IT , Software Development',\n",
              " 'IT , Software Development',\n",
              " 'IT , Software Development',\n",
              " 'IT , Software Development',\n",
              " 'IT , Software Development',\n",
              " 'IT , Software Development',\n",
              " 'IT , Software Development',\n",
              " 'IT , Software Development',\n",
              " 'Marketing',\n",
              " 'Administration , Marketing , Research',\n",
              " 'Customer Service , Support',\n",
              " 'Creative , Design',\n",
              " 'Customer Service , Support',\n",
              " 'Creative , Design , Marketing',\n",
              " 'Quality Assurance , Quality Control',\n",
              " 'Sales , Retail , Business Development , Customer Service , Support',\n",
              " 'Customer Service , Support',\n",
              " 'Engineering',\n",
              " 'Creative , Design , IT , Software Development',\n",
              " 'Engineering',\n",
              " 'Engineering , Installation , Maintenance , Repair',\n",
              " 'IT , Software Development',\n",
              " 'IT , Software Development',\n",
              " 'IT , Software Development',\n",
              " 'IT , Software Development',\n",
              " 'Customer Service , Support',\n",
              " 'IT , Software Development',\n",
              " 'IT , Software Development',\n",
              " 'Engineering',\n",
              " 'Marketing , Sales , Retail , Business Development',\n",
              " 'Sales , Retail , Business Development , Installation , Maintenance , Repair , Engineering',\n",
              " 'Editorial , Writing',\n",
              " 'Engineering , Creative , Design , Building Construction , Skilled Trades',\n",
              " 'Creative , Design , Engineering',\n",
              " 'Engineering',\n",
              " 'IT , Software Development',\n",
              " 'IT , Software Development , Sales , Retail , Business Development',\n",
              " 'IT , Software Development , Sales , Retail , Business Development',\n",
              " 'Sales , Retail , Business Development , Engineering',\n",
              " 'IT , Software Development',\n",
              " 'Sales , Retail , Business Development , Customer Service , Support',\n",
              " 'Sales , Retail , Business Development , Accounting , Finance , Insurance , IT , Software Development',\n",
              " 'Engineering , Sales , Retail , Business Development',\n",
              " 'Engineering , Sales , Retail , Business Development , Customer Service , Support',\n",
              " 'Engineering , Sales , Retail , Business Development',\n",
              " 'Engineering',\n",
              " 'Editorial , Writing',\n",
              " 'Creative , Design',\n",
              " 'Marketing , Sales , Retail , Business Development',\n",
              " 'Marketing , Editorial , Writing , Sales , Retail , Business Development',\n",
              " 'Customer Service , Support , Sales , Retail , Business Development',\n",
              " 'Customer Service , Support',\n",
              " 'IT , Software Development',\n",
              " 'Creative , Design',\n",
              " 'IT , Software Development , Engineering',\n",
              " 'Project , Program Management , Editorial , Writing',\n",
              " 'IT , Software Development',\n",
              " 'Customer Service , Support',\n",
              " 'Sales , Retail , Business Development , Customer Service , Support',\n",
              " 'IT , Software Development , Engineering',\n",
              " 'IT , Software Development , Engineering',\n",
              " 'Customer Service , Support',\n",
              " 'IT , Software Development',\n",
              " 'Sales , Retail , Business Development , Project , Program Management , Customer Service , Support',\n",
              " 'IT , Software Development',\n",
              " 'Sales , Retail , Business Development , Customer Service , Support',\n",
              " 'IT , Software Development',\n",
              " 'IT , Software Development',\n",
              " 'Marketing',\n",
              " 'Marketing , Project , Program Management',\n",
              " 'Administration , IT , Software Development',\n",
              " 'IT , Software Development , Engineering',\n",
              " 'Manufacturing , Production , Operations , Engineering',\n",
              " 'Engineering , IT , Software Development',\n",
              " 'Engineering , Project , Program Management',\n",
              " 'Customer Service , Support , Engineering',\n",
              " 'Marketing , Sales , Retail , Business Development',\n",
              " 'Quality Assurance , Quality Control , Medical',\n",
              " 'Research , Medical',\n",
              " 'IT , Software Development',\n",
              " 'IT , Software Development , Engineering',\n",
              " 'Customer Service , Support',\n",
              " 'IT , Software Development , Customer Service , Support',\n",
              " 'Marketing',\n",
              " 'Marketing',\n",
              " 'IT , Software Development',\n",
              " 'IT , Software Development , Accounting , Finance , Insurance',\n",
              " 'Customer Service , Support',\n",
              " 'Sales , Retail , Business Development , Engineering',\n",
              " 'Sales , Retail , Business Development , Engineering , Installation , Maintenance , Repair',\n",
              " 'Sales , Retail , Business Development , Engineering , Installation , Maintenance , Repair',\n",
              " 'Sales , Retail , Business Development , Engineering , Installation , Maintenance , Repair',\n",
              " 'Sales , Retail , Business Development , Engineering , Installation , Maintenance , Repair',\n",
              " 'Sales , Retail , Business Development , Engineering , Installation , Maintenance , Repair',\n",
              " 'Sales , Retail , Business Development , Engineering , Installation , Maintenance , Repair',\n",
              " 'Sales , Retail , Business Development , Engineering , Installation , Maintenance , Repair',\n",
              " 'Engineering',\n",
              " 'IT , Software Development',\n",
              " 'Quality Assurance , Quality Control , Engineering',\n",
              " 'Sales , Retail , Business Development , Marketing',\n",
              " 'Customer Service , Support',\n",
              " 'Project , Program Management , Installation , Maintenance , Repair , Engineering',\n",
              " 'Engineering , IT , Software Development',\n",
              " 'Engineering , IT , Software Development , Creative , Design',\n",
              " 'Biotech , R&D , Science , Medical , Editorial , Writing',\n",
              " 'Engineering , Creative , Design',\n",
              " 'IT , Software Development',\n",
              " 'Education , Training , Research , Editorial , Writing',\n",
              " 'Research , Medical',\n",
              " 'Quality Assurance , Quality Control , Medical',\n",
              " 'Quality Assurance , Quality Control , Medical',\n",
              " 'Engineering , Project , Program Management',\n",
              " 'Creative , Design',\n",
              " 'Creative , Design',\n",
              " 'IT , Software Development , Quality Assurance , Quality Control , Engineering',\n",
              " 'Marketing',\n",
              " 'Sales , Retail , Business Development , Marketing',\n",
              " 'IT , Software Development',\n",
              " 'Sales , Retail , Business Development , Customer Service , Support',\n",
              " 'Marketing',\n",
              " 'Customer Service , Support',\n",
              " 'Customer Service , Support',\n",
              " 'Customer Service , Support',\n",
              " 'Customer Service , Support',\n",
              " 'Marketing , Research',\n",
              " 'IT , Software Development',\n",
              " 'IT , Software Development',\n",
              " 'Customer Service , Support',\n",
              " 'Customer Service , Support',\n",
              " 'Customer Service , Support',\n",
              " 'Sales , Retail , Business Development , Marketing , Customer Service , Support',\n",
              " 'IT , Software Development , Engineering',\n",
              " 'Quality Assurance , Quality Control',\n",
              " 'IT , Software Development',\n",
              " 'Customer Service , Support , Administration',\n",
              " 'Marketing , Creative , Design , Editorial , Writing',\n",
              " 'IT , Software Development',\n",
              " 'Marketing',\n",
              " 'Marketing , Customer Service , Support',\n",
              " 'Engineering',\n",
              " 'Engineering',\n",
              " 'Marketing',\n",
              " 'Engineering',\n",
              " 'Creative , Design',\n",
              " 'Engineering , Quality Assurance , Quality Control',\n",
              " 'Manufacturing , Production , Operations , Engineering',\n",
              " 'Quality Assurance , Quality Control',\n",
              " 'Marketing , Creative , Design',\n",
              " 'Engineering , Manufacturing , Production , Operations , IT , Software Development',\n",
              " 'IT , Software Development , Engineering',\n",
              " 'Management , Engineering',\n",
              " 'IT , Software Development',\n",
              " 'Customer Service , Support , IT , Software Development',\n",
              " 'Creative , Design',\n",
              " 'IT , Software Development',\n",
              " 'Creative , Design , IT , Software Development',\n",
              " 'Engineering , Sales , Retail , Business Development',\n",
              " 'IT , Software Development , Creative , Design',\n",
              " 'IT , Software Development , Engineering',\n",
              " 'Project , Program Management , Creative , Design',\n",
              " 'IT , Software Development , Engineering',\n",
              " 'Sales , Retail , Business Development , Customer Service , Support',\n",
              " 'Customer Service , Support',\n",
              " 'Engineering , Installation , Maintenance , Repair , Creative , Design',\n",
              " 'Customer Service , Support , Management',\n",
              " 'Customer Service , Support',\n",
              " 'Customer Service , Support , Quality Assurance , Quality Control , Management',\n",
              " 'Engineering , Sales , Retail , Business Development',\n",
              " 'Engineering , Sales , Retail , Business Development , Marketing',\n",
              " 'Accounting , Finance , Insurance , Biotech , R&D , Science',\n",
              " 'Accounting , Finance , Insurance , Biotech , R&D , Science',\n",
              " 'Accounting , Finance , Insurance , Biotech , R&D , Science',\n",
              " 'Business  , IT , Software Development',\n",
              " 'Marketing',\n",
              " 'Editorial , Writing',\n",
              " 'IT , Software Development',\n",
              " 'Administration , Editorial , Writing',\n",
              " 'Administration , Customer Service , Support',\n",
              " 'IT , Software Development , Engineering',\n",
              " 'Customer Service , Support',\n",
              " 'Marketing , Customer Service , Support',\n",
              " 'IT , Software Development',\n",
              " 'IT , Software Development',\n",
              " 'IT , Software Development',\n",
              " 'Administration , Project , Program Management',\n",
              " 'Marketing',\n",
              " 'Marketing , Creative , Design',\n",
              " 'IT , Software Development , Marketing , Research',\n",
              " 'Marketing',\n",
              " 'Sales , Retail , Business Development , Customer Service , Support',\n",
              " 'Engineering , Sales , Retail , Business Development',\n",
              " 'Engineering , Project , Program Management , Management',\n",
              " 'Creative , Design , IT , Software Development',\n",
              " 'IT , Software Development',\n",
              " 'IT , Software Development',\n",
              " 'Sales , Retail , Business Development , Customer Service , Support',\n",
              " 'Management , Customer Service , Support , Banking',\n",
              " 'IT , Software Development',\n",
              " 'IT , Software Development , Business  , Accounting , Finance , Insurance',\n",
              " 'Business  , IT , Software Development , Installation , Maintenance , Repair',\n",
              " 'Logistics , Transportation , Customer Service , Support',\n",
              " 'IT , Software Development',\n",
              " 'IT , Software Development , Accounting , Finance , Insurance',\n",
              " 'Quality Assurance , Quality Control , IT , Software Development',\n",
              " 'Engineering , IT , Software Development',\n",
              " 'Biotech , R&D , Science , Engineering , IT , Software Development',\n",
              " 'Quality Assurance , Quality Control , Medical',\n",
              " 'Quality Assurance , Quality Control , Medical',\n",
              " 'Quality Assurance , Quality Control , Manufacturing , Production , Operations , Medical',\n",
              " 'Biotech , R&D , Science , Medical',\n",
              " 'IT , Software Development , Installation , Maintenance , Repair',\n",
              " 'IT , Software Development , Installation , Maintenance , Repair',\n",
              " 'IT , Software Development',\n",
              " 'Customer Service , Support',\n",
              " 'IT , Software Development',\n",
              " 'IT , Software Development , Creative , Design , Quality Assurance , Quality Control',\n",
              " 'IT , Software Development , Engineering',\n",
              " 'Marketing , Customer Service , Support , Administration',\n",
              " 'IT , Software Development , Accounting , Finance , Insurance',\n",
              " 'IT , Software Development',\n",
              " 'Creative , Design',\n",
              " 'Creative , Design',\n",
              " 'Engineering , IT , Software Development',\n",
              " 'IT , Software Development',\n",
              " 'Quality Assurance , Quality Control',\n",
              " 'Creative , Design , Marketing',\n",
              " 'IT , Software Development , Engineering',\n",
              " 'Sales , Retail , Business Development , Quality Assurance , Quality Control , Creative , Design',\n",
              " 'Customer Service , Support',\n",
              " 'Engineering , Installation , Maintenance , Repair',\n",
              " 'Customer Service , Support',\n",
              " 'Sales , Retail , Business Development , Customer Service , Support',\n",
              " 'IT , Software Development',\n",
              " 'IT , Software Development',\n",
              " 'Customer Service , Support',\n",
              " 'Customer Service , Support , Sales , Retail , Business Development , Marketing',\n",
              " 'Marketing , Management',\n",
              " 'IT , Software Development',\n",
              " 'Customer Service , Support',\n",
              " 'Customer Service , Support',\n",
              " 'IT , Software Development',\n",
              " 'IT , Software Development , Engineering',\n",
              " 'Engineering',\n",
              " 'Sales , Retail , Business Development , Customer Service , Support',\n",
              " 'IT , Software Development',\n",
              " 'Engineering , IT , Software Development',\n",
              " 'Marketing , Research',\n",
              " 'Engineering',\n",
              " 'Engineering',\n",
              " 'IT , Software Development',\n",
              " 'IT , Software Development , Engineering',\n",
              " 'Customer Service , Support , Medical , Management',\n",
              " 'Engineering , IT , Software Development',\n",
              " 'Editorial , Writing',\n",
              " 'Customer Service , Support',\n",
              " 'Marketing , Sales , Retail , Business Development',\n",
              " 'Engineering',\n",
              " 'Creative , Design',\n",
              " 'IT , Software Development',\n",
              " 'Education , Training , IT , Software Development , Engineering',\n",
              " 'IT , Software Development',\n",
              " 'IT , Software Development',\n",
              " 'IT , Software Development',\n",
              " 'Marketing , Sales , Retail , Business Development',\n",
              " 'Engineering',\n",
              " 'IT , Software Development',\n",
              " 'IT , Software Development , Quality Assurance , Quality Control',\n",
              " 'Engineering',\n",
              " 'IT , Software Development',\n",
              " 'IT , Software Development',\n",
              " 'Sales , Retail , Business Development , Engineering',\n",
              " 'IT , Software Development',\n",
              " 'Marketing',\n",
              " 'Creative , Design',\n",
              " 'Customer Service , Support',\n",
              " 'Customer Service , Support , Sales , Retail , Business Development',\n",
              " 'Engineering , Sales , Retail , Business Development',\n",
              " 'Engineering , Sales , Retail , Business Development , Marketing',\n",
              " 'Marketing , Sales , Retail , Business Development',\n",
              " 'IT , Software Development',\n",
              " 'Education , Training , IT , Software Development',\n",
              " 'Sales , Retail , Business Development , Installation , Maintenance , Repair , Engineering',\n",
              " 'Engineering , Installation , Maintenance , Repair',\n",
              " 'Sales , Retail , Business Development , Customer Service , Support',\n",
              " 'IT , Software Development',\n",
              " 'IT , Software Development',\n",
              " 'Administration , Project , Program Management',\n",
              " 'IT , Software Development',\n",
              " 'Customer Service , Support',\n",
              " 'IT , Software Development',\n",
              " 'Sales , Retail , Business Development , Customer Service , Support',\n",
              " 'Sales , Retail , Business Development , Customer Service , Support',\n",
              " 'IT , Software Development',\n",
              " 'IT , Software Development',\n",
              " 'Engineering , Sales , Retail , Business Development',\n",
              " 'Customer Service , Support',\n",
              " 'Customer Service , Support , Sales , Retail , Business Development , Administration',\n",
              " 'IT , Software Development',\n",
              " 'IT , Software Development',\n",
              " 'Engineering , Sales , Retail , Business Development , IT , Software Development',\n",
              " 'Marketing',\n",
              " 'Sales , Retail , Business Development , Customer Service , Support',\n",
              " 'IT , Software Development',\n",
              " 'Marketing',\n",
              " 'Biotech , R&D , Science',\n",
              " 'Quality Assurance , Quality Control , Engineering',\n",
              " 'Engineering , IT , Software Development',\n",
              " 'IT , Software Development',\n",
              " 'Creative , Design , IT , Software Development',\n",
              " 'IT , Software Development',\n",
              " 'Creative , Design',\n",
              " 'Engineering',\n",
              " 'Marketing',\n",
              " 'Marketing',\n",
              " 'Marketing',\n",
              " 'Creative , Design',\n",
              " 'Engineering , IT , Software Development',\n",
              " 'Engineering , Installation , Maintenance , Repair',\n",
              " 'Customer Service , Support',\n",
              " 'Marketing',\n",
              " 'Creative , Design , Engineering',\n",
              " 'Engineering , Manufacturing , Production , Operations',\n",
              " 'Administration , Editorial , Writing',\n",
              " 'Editorial , Writing',\n",
              " 'IT , Software Development',\n",
              " 'IT , Software Development , Quality Assurance , Quality Control',\n",
              " 'IT , Software Development , Quality Assurance , Quality Control',\n",
              " 'IT , Software Development , Quality Assurance , Quality Control',\n",
              " 'Engineering',\n",
              " 'Administration , Editorial , Writing',\n",
              " 'Engineering , Manufacturing , Production , Operations',\n",
              " 'Customer Service , Support , Administration',\n",
              " 'Customer Service , Support , Food Services , Hospitality , Management',\n",
              " 'IT , Software Development',\n",
              " 'Education , Training , Engineering',\n",
              " 'Marketing',\n",
              " 'Marketing , IT , Software Development',\n",
              " 'IT , Software Development',\n",
              " 'Engineering',\n",
              " 'IT , Software Development , Creative , Design',\n",
              " 'IT , Software Development',\n",
              " 'Education , Training , IT , Software Development',\n",
              " 'Education , Training , Research , Editorial , Writing',\n",
              " 'Creative , Design',\n",
              " 'Sales , Retail , Business Development , Marketing , Installation , Maintenance , Repair',\n",
              " 'Customer Service , Support',\n",
              " 'Customer Service , Support',\n",
              " 'IT , Software Development',\n",
              " 'Customer Service , Support',\n",
              " 'Engineering',\n",
              " 'Sales , Retail , Business Development , Marketing',\n",
              " 'Customer Service , Support , Administration , Human Resources',\n",
              " 'IT , Software Development',\n",
              " 'IT , Software Development , Engineering',\n",
              " 'Engineering',\n",
              " 'Customer Service , Support , Sales , Retail , Business Development',\n",
              " 'IT , Software Development',\n",
              " 'Creative , Design',\n",
              " 'IT , Software Development , Project , Program Management',\n",
              " 'IT , Software Development',\n",
              " 'Marketing',\n",
              " 'Creative , Design , Marketing',\n",
              " 'Engineering , Management',\n",
              " 'Marketing',\n",
              " 'Marketing , Sales , Retail , Business Development , Editorial , Writing',\n",
              " 'Administration , Customer Service , Support',\n",
              " 'Creative , Design',\n",
              " 'Project , Program Management , Administration',\n",
              " 'Marketing , Management',\n",
              " 'Engineering , Management',\n",
              " 'Quality Assurance , Quality Control , Management , Engineering',\n",
              " 'Engineering',\n",
              " 'Customer Service , Support',\n",
              " 'Customer Service , Support',\n",
              " 'Sales , Retail , Business Development , Customer Service , Support',\n",
              " 'Customer Service , Support',\n",
              " 'Marketing',\n",
              " 'Customer Service , Support',\n",
              " 'Administration , Customer Service , Support',\n",
              " 'Sales , Retail , Business Development , Marketing',\n",
              " 'Sales , Retail , Business Development , Marketing',\n",
              " 'IT , Software Development',\n",
              " 'IT , Software Development',\n",
              " 'Customer Service , Support',\n",
              " 'IT , Software Development',\n",
              " 'Engineering',\n",
              " 'Marketing',\n",
              " 'Customer Service , Support , Sales , Retail , Business Development',\n",
              " 'Creative , Design',\n",
              " 'IT , Software Development',\n",
              " 'Marketing',\n",
              " 'IT , Software Development',\n",
              " 'IT , Software Development , Project , Program Management , Quality Assurance , Quality Control',\n",
              " 'Engineering , IT , Software Development',\n",
              " 'IT , Software Development , Project , Program Management , Quality Assurance , Quality Control',\n",
              " 'IT , Software Development',\n",
              " 'Project , Program Management , Management',\n",
              " 'IT , Software Development',\n",
              " 'Project , Program Management',\n",
              " 'IT , Software Development',\n",
              " 'Administration , Customer Service , Support',\n",
              " 'Marketing',\n",
              " 'IT , Software Development',\n",
              " 'Customer Service , Support',\n",
              " 'Customer Service , Support',\n",
              " 'Engineering',\n",
              " 'Engineering , IT , Software Development',\n",
              " 'IT , Software Development , Engineering',\n",
              " 'IT , Software Development',\n",
              " 'IT , Software Development , Customer Service , Support , Engineering',\n",
              " 'Customer Service , Support',\n",
              " 'Marketing',\n",
              " 'IT , Software Development , Engineering , Project , Program Management',\n",
              " 'Administration , Editorial , Writing',\n",
              " 'Administration , Project , Program Management',\n",
              " 'Marketing , Management , Customer Service , Support',\n",
              " 'Marketing , Business  , Management',\n",
              " 'Creative , Design',\n",
              " 'Marketing',\n",
              " 'Quality Assurance , Quality Control , Engineering',\n",
              " 'Engineering , Quality Assurance , Quality Control',\n",
              " 'Legal , Biotech , R&D , Science , Business ',\n",
              " 'Education , Training , Creative , Design',\n",
              " 'IT , Software Development',\n",
              " 'IT , Software Development , Engineering',\n",
              " 'Customer Service , Support , IT , Software Development , Engineering',\n",
              " 'Marketing',\n",
              " 'Creative , Design',\n",
              " 'IT , Software Development',\n",
              " 'Customer Service , Support',\n",
              " 'IT , Software Development',\n",
              " 'Engineering , Installation , Maintenance , Repair',\n",
              " 'Engineering , Creative , Design',\n",
              " 'IT , Software Development',\n",
              " 'IT , Software Development',\n",
              " 'IT , Software Development , Engineering',\n",
              " 'Creative , Design',\n",
              " 'Customer Service , Support',\n",
              " 'Editorial , Writing',\n",
              " 'Sales , Retail , Business Development , Marketing',\n",
              " 'Quality Assurance , Quality Control , Engineering , IT , Software Development',\n",
              " 'Creative , Design',\n",
              " 'Engineering , IT , Software Development',\n",
              " 'Education , Training , Sales , Retail , Business Development , Customer Service , Support',\n",
              " 'Sales , Retail , Business Development , Customer Service , Support',\n",
              " 'IT , Software Development',\n",
              " 'Engineering , Installation , Maintenance , Repair',\n",
              " 'Marketing , Research',\n",
              " 'Engineering',\n",
              " 'IT , Software Development',\n",
              " 'IT , Software Development',\n",
              " 'Project , Program Management , Engineering',\n",
              " 'Customer Service , Support , Sales , Retail , Business Development',\n",
              " 'Customer Service , Support',\n",
              " 'Engineering',\n",
              " 'Engineering , Quality Assurance , Quality Control',\n",
              " 'Marketing',\n",
              " 'Engineering',\n",
              " 'Creative , Design',\n",
              " 'IT , Software Development',\n",
              " 'Sales , Retail , Business Development , Customer Service , Support',\n",
              " 'Sales , Retail , Business Development , Marketing',\n",
              " 'Marketing',\n",
              " 'Creative , Design',\n",
              " 'Customer Service , Support',\n",
              " 'Customer Service , Support',\n",
              " 'IT , Software Development',\n",
              " 'IT , Software Development',\n",
              " 'Customer Service , Support , Quality Assurance , Quality Control',\n",
              " 'Customer Service , Support',\n",
              " 'IT , Software Development , Engineering',\n",
              " 'IT , Software Development , Engineering',\n",
              " 'IT , Software Development',\n",
              " 'IT , Software Development',\n",
              " 'Creative , Design',\n",
              " 'Marketing',\n",
              " 'Project , Program Management , IT , Software Development',\n",
              " 'Marketing',\n",
              " 'Sales , Retail , Business Development , Customer Service , Support',\n",
              " 'Medical , Editorial , Writing',\n",
              " 'Medical , Editorial , Writing , Biotech , R&D , Science',\n",
              " 'Marketing',\n",
              " 'Engineering , Project , Program Management',\n",
              " 'IT , Software Development',\n",
              " 'Customer Service , Support , Sales , Retail , Business Development',\n",
              " 'Sales , Retail , Business Development , Marketing',\n",
              " 'Sales , Retail , Business Development , Engineering',\n",
              " 'Marketing',\n",
              " 'IT , Software Development',\n",
              " 'Editorial , Writing',\n",
              " 'IT , Software Development',\n",
              " 'Sales , Retail , Business Development , Engineering',\n",
              " 'Customer Service , Support',\n",
              " 'Customer Service , Support',\n",
              " 'Engineering',\n",
              " 'Engineering , Quality Assurance , Quality Control',\n",
              " 'Engineering , Quality Assurance , Quality Control',\n",
              " 'Engineering',\n",
              " 'Engineering , Quality Assurance , Quality Control',\n",
              " 'Business  , Logistics , Transportation , Marketing',\n",
              " 'Engineering , Quality Assurance , Quality Control',\n",
              " 'Engineering , Quality Assurance , Quality Control',\n",
              " 'Engineering , Quality Assurance , Quality Control',\n",
              " 'Installation , Maintenance , Repair , IT , Software Development',\n",
              " 'Engineering',\n",
              " 'Engineering , Building Construction , Skilled Trades',\n",
              " 'Medical , Quality Assurance , Quality Control',\n",
              " 'Medical , Quality Assurance , Quality Control',\n",
              " 'Building Construction , Skilled Trades , Creative , Design',\n",
              " 'Sales , Retail , Business Development , IT , Software Development , Engineering',\n",
              " 'Sales , Retail , Business Development , Engineering',\n",
              " 'Engineering , Sales , Retail , Business Development',\n",
              " 'Building Construction , Skilled Trades , Engineering',\n",
              " 'Marketing',\n",
              " 'Administration , Marketing',\n",
              " 'Engineering',\n",
              " 'IT , Software Development',\n",
              " 'IT , Software Development',\n",
              " 'IT , Software Development',\n",
              " 'Engineering , Project , Program Management',\n",
              " 'Project , Program Management , Business ',\n",
              " 'Marketing , Sales , Retail , Business Development',\n",
              " 'IT , Software Development',\n",
              " 'Engineering',\n",
              " 'Customer Service , Support , IT , Software Development',\n",
              " 'Customer Service , Support',\n",
              " 'Engineering',\n",
              " 'IT , Software Development',\n",
              " 'Administration , IT , Software Development',\n",
              " 'Engineering , Sales , Retail , Business Development',\n",
              " 'Engineering , Installation , Maintenance , Repair , Project , Program Management',\n",
              " 'Customer Service , Support',\n",
              " 'Customer Service , Support , Medical',\n",
              " 'Medical , Quality Assurance , Quality Control',\n",
              " 'Customer Service , Support , Sales , Retail , Business Development , Marketing',\n",
              " 'Engineering',\n",
              " 'Engineering , Manufacturing , Production , Operations , Installation , Maintenance , Repair',\n",
              " 'Management , Project , Program Management',\n",
              " 'IT , Software Development',\n",
              " 'IT , Software Development',\n",
              " 'IT , Software Development',\n",
              " 'Creative , Design',\n",
              " 'IT , Software Development',\n",
              " 'Marketing',\n",
              " 'IT , Software Development',\n",
              " 'Customer Service , Support , Medical , Sales , Retail , Business Development',\n",
              " 'Administration , Marketing',\n",
              " 'Editorial , Writing , Education , Training',\n",
              " 'Management , Project , Program Management',\n",
              " 'Education , Training , IT , Software Development',\n",
              " 'Engineering',\n",
              " 'Sales , Retail , Business Development , Engineering',\n",
              " 'Customer Service , Support',\n",
              " 'IT , Software Development , Sales , Retail , Business Development',\n",
              " 'Marketing',\n",
              " 'IT , Software Development',\n",
              " 'Creative , Design , IT , Software Development',\n",
              " 'Engineering , Building Construction , Skilled Trades',\n",
              " 'Customer Service , Support , Administration',\n",
              " 'Biotech , R&D , Science',\n",
              " 'Customer Service , Support , Administration , Sales , Retail , Business Development',\n",
              " 'Sales , Retail , Business Development , Customer Service , Support',\n",
              " 'Customer Service , Support',\n",
              " 'Sales , Retail , Business Development , IT , Software Development , Engineering',\n",
              " 'Editorial , Writing , Quality Assurance , Quality Control',\n",
              " 'Customer Service , Support',\n",
              " 'Engineering , Installation , Maintenance , Repair',\n",
              " 'Engineering',\n",
              " 'Engineering , IT , Software Development',\n",
              " 'IT , Software Development',\n",
              " 'Editorial , Writing',\n",
              " 'Engineering , IT , Software Development',\n",
              " 'Engineering , Quality Assurance , Quality Control',\n",
              " 'Engineering , Building Construction , Skilled Trades',\n",
              " 'Customer Service , Support , Sales , Retail , Business Development',\n",
              " 'Creative , Design',\n",
              " 'Marketing',\n",
              " ...]"
            ]
          },
          "metadata": {
            "tags": []
          },
          "execution_count": 14
        }
      ]
    },
    {
      "cell_type": "markdown",
      "metadata": {
        "id": "EJWGRGRRHH1e"
      },
      "source": [
        "here we will insert the list in a dataframe as a string then we will convert the string into a list by split(',')"
      ]
    },
    {
      "cell_type": "code",
      "metadata": {
        "id": "5NZULHaKDU8J"
      },
      "source": [
        "job_category = pd.DataFrame(job_temp,columns=['job_category'])\n",
        "job_category['job_category'] = job_category['job_category'].str.split(',')"
      ],
      "execution_count": null,
      "outputs": []
    },
    {
      "cell_type": "code",
      "metadata": {
        "id": "WfTkNwb4D7I9",
        "colab": {
          "base_uri": "https://localhost:8080/",
          "height": 419
        },
        "outputId": "98c22760-812f-4f06-d560-22783db1513d"
      },
      "source": [
        "job_category"
      ],
      "execution_count": null,
      "outputs": [
        {
          "output_type": "execute_result",
          "data": {
            "text/html": [
              "<div>\n",
              "<style scoped>\n",
              "    .dataframe tbody tr th:only-of-type {\n",
              "        vertical-align: middle;\n",
              "    }\n",
              "\n",
              "    .dataframe tbody tr th {\n",
              "        vertical-align: top;\n",
              "    }\n",
              "\n",
              "    .dataframe thead th {\n",
              "        text-align: right;\n",
              "    }\n",
              "</style>\n",
              "<table border=\"1\" class=\"dataframe\">\n",
              "  <thead>\n",
              "    <tr style=\"text-align: right;\">\n",
              "      <th></th>\n",
              "      <th>job_category</th>\n",
              "    </tr>\n",
              "  </thead>\n",
              "  <tbody>\n",
              "    <tr>\n",
              "      <th>0</th>\n",
              "      <td>[Sales ,  Retail ,  Business Development ,  Ma...</td>\n",
              "    </tr>\n",
              "    <tr>\n",
              "      <th>1</th>\n",
              "      <td>[Customer Service ,  Support ,  Administration...</td>\n",
              "    </tr>\n",
              "    <tr>\n",
              "      <th>2</th>\n",
              "      <td>[IT ,  Software Development]</td>\n",
              "    </tr>\n",
              "    <tr>\n",
              "      <th>3</th>\n",
              "      <td>[IT ,  Software Development]</td>\n",
              "    </tr>\n",
              "    <tr>\n",
              "      <th>4</th>\n",
              "      <td>[Engineering]</td>\n",
              "    </tr>\n",
              "    <tr>\n",
              "      <th>...</th>\n",
              "      <td>...</td>\n",
              "    </tr>\n",
              "    <tr>\n",
              "      <th>21845</th>\n",
              "      <td>[Creative ,  Design]</td>\n",
              "    </tr>\n",
              "    <tr>\n",
              "      <th>21846</th>\n",
              "      <td>[Quality Assurance ,  Quality Control ,  Biote...</td>\n",
              "    </tr>\n",
              "    <tr>\n",
              "      <th>21847</th>\n",
              "      <td>[Administration ,  Marketing ,  Sales ,  Retai...</td>\n",
              "    </tr>\n",
              "    <tr>\n",
              "      <th>21848</th>\n",
              "      <td>[Marketing]</td>\n",
              "    </tr>\n",
              "    <tr>\n",
              "      <th>21849</th>\n",
              "      <td>[IT ,  Software Development ,  Marketing ,  Sa...</td>\n",
              "    </tr>\n",
              "  </tbody>\n",
              "</table>\n",
              "<p>21850 rows × 1 columns</p>\n",
              "</div>"
            ],
            "text/plain": [
              "                                            job_category\n",
              "0      [Sales ,  Retail ,  Business Development ,  Ma...\n",
              "1      [Customer Service ,  Support ,  Administration...\n",
              "2                           [IT ,  Software Development]\n",
              "3                           [IT ,  Software Development]\n",
              "4                                          [Engineering]\n",
              "...                                                  ...\n",
              "21845                               [Creative ,  Design]\n",
              "21846  [Quality Assurance ,  Quality Control ,  Biote...\n",
              "21847  [Administration ,  Marketing ,  Sales ,  Retai...\n",
              "21848                                        [Marketing]\n",
              "21849  [IT ,  Software Development ,  Marketing ,  Sa...\n",
              "\n",
              "[21850 rows x 1 columns]"
            ]
          },
          "metadata": {
            "tags": []
          },
          "execution_count": 16
        }
      ]
    },
    {
      "cell_type": "markdown",
      "metadata": {
        "id": "BKQkyJxkH3UJ"
      },
      "source": [
        "finally we will remove the 3 columns and insert **job_category**"
      ]
    },
    {
      "cell_type": "code",
      "metadata": {
        "id": "QB2dAW6ED-DM"
      },
      "source": [
        "data_clean.pop('job_category1')\n",
        "data_clean.pop('job_category2')\n",
        "data_clean.pop('job_category3')\n",
        "data_clean.insert(3,'job_category',job_category['job_category'])"
      ],
      "execution_count": null,
      "outputs": []
    },
    {
      "cell_type": "markdown",
      "metadata": {
        "id": "5JHRWslGI01Y"
      },
      "source": [
        "there are missing values in **job_industry1**, **job_industry2** and **job_industry3**  (Select)"
      ]
    },
    {
      "cell_type": "markdown",
      "metadata": {
        "id": "7lr0jCywI6qO"
      },
      "source": [
        "we will merge the 3 columns into 1 column (**job_industry**) to handle the missing values"
      ]
    },
    {
      "cell_type": "markdown",
      "metadata": {
        "id": "0O_L6M-BJCKX"
      },
      "source": [
        "first we will merge the 3 columns as a list to remove **' , Select'** faster"
      ]
    },
    {
      "cell_type": "code",
      "metadata": {
        "id": "P4-_S86uEMgo"
      },
      "source": [
        "job_temp = list(data_clean['job_industry1'] + ' , ' \n",
        "                + data_clean['job_industry2'] + ' , '\n",
        "                + data_clean['job_industry3'])"
      ],
      "execution_count": null,
      "outputs": []
    },
    {
      "cell_type": "code",
      "metadata": {
        "id": "A23laVOEENDj"
      },
      "source": [
        "for i in range(len(job_temp)):\n",
        "    job_temp[i] = job_temp[i].replace(' , Select','')"
      ],
      "execution_count": null,
      "outputs": []
    },
    {
      "cell_type": "code",
      "metadata": {
        "id": "9jomSrhfERhB",
        "colab": {
          "base_uri": "https://localhost:8080/"
        },
        "outputId": "1339f7c3-d6e0-40a2-9f3d-0198eb62d622"
      },
      "source": [
        "job_temp"
      ],
      "execution_count": null,
      "outputs": [
        {
          "output_type": "execute_result",
          "data": {
            "text/plain": [
              "['Telecommunications Services',\n",
              " 'Translation and Localization    , Business Services - Other , Education',\n",
              " 'Computer Software',\n",
              " 'Telecommunications Services',\n",
              " 'Food and Beverage Production',\n",
              " 'Retail',\n",
              " 'Computer Software',\n",
              " 'Chemicals/Petro-Chemicals , Oil and Energy   ',\n",
              " 'Computer Software , Information Technology Services   ',\n",
              " 'Chemicals/Petro-Chemicals',\n",
              " 'Pharmaceuticals   ',\n",
              " 'Engineering - Mechanical or Industrial   ',\n",
              " 'Information Technology Services    , Computer Software , Computer/IT Services',\n",
              " 'Internet Services',\n",
              " 'Engineering Services',\n",
              " 'Travel, Transportation and Tourism',\n",
              " 'Computer Software , Computer Games    , Computer/IT Services',\n",
              " 'Travel, Transportation and Tourism , Management Consulting Services , Business Services - Other',\n",
              " 'Veterinary   ',\n",
              " 'Insurance',\n",
              " 'Business Services - Other , Travel, Transportation and Tourism',\n",
              " 'Computer Hardware , Computer Networking    , Computer Software',\n",
              " 'Business Services - Other',\n",
              " 'Education , Religious Institutions   ',\n",
              " 'Computer Software , Computer Games    , Information Technology Services   ',\n",
              " 'Information Technology Services    , Computer Software',\n",
              " 'Information Technology Services   ',\n",
              " 'Medical Devices and Supplies',\n",
              " 'Information Technology Services   ',\n",
              " 'Information Technology Services   ',\n",
              " 'Information Technology Services   ',\n",
              " 'Information Technology Services   ',\n",
              " 'Medical Devices and Supplies , Business Services - Other',\n",
              " 'Computer Software , Computer/IT Services',\n",
              " 'Computer/IT Services , Information Technology Services   ',\n",
              " 'Food and Beverage Production',\n",
              " 'Human Resources   ',\n",
              " 'Telecommunications Services',\n",
              " 'Human Resources   ',\n",
              " 'Human Resources   ',\n",
              " 'Manufacturing , Textiles   ',\n",
              " 'Manufacturing , Textiles   ',\n",
              " 'Manufacturing , Textiles   ',\n",
              " 'Manufacturing , Textiles   ',\n",
              " 'Human Resources   ',\n",
              " 'Human Resources   ',\n",
              " 'Human Resources   ',\n",
              " 'Real Estate/Property Management',\n",
              " 'Architectural and Design Services',\n",
              " 'Food and Beverage Production , Import and Export   ',\n",
              " 'Food and Beverage Production , Import and Export   ',\n",
              " 'Construction - Industrial Facilities and Infrastructure',\n",
              " 'Consumer Packaged Goods Manufacturing , Manufacturing',\n",
              " 'Computer Software , Graphic Design   ',\n",
              " 'Information Technology Services   ',\n",
              " 'Information Technology Services    , Online Media   ',\n",
              " 'Marketing and Advertising   ',\n",
              " 'Architectural and Design Services',\n",
              " 'Computer Software',\n",
              " 'Advertising and PR Services , Marketing and Advertising   ',\n",
              " 'Online Media    , Market Research    , Marketing and Advertising   ',\n",
              " 'Online Media    , Internet Services , Information Technology Services   ',\n",
              " 'Human Resources   ',\n",
              " 'Human Resources   ',\n",
              " 'Graphic Design   ',\n",
              " 'Accounting and Auditing Services , Computer/IT Services , Engineering - Mechanical or Industrial   ',\n",
              " 'Accounting and Auditing Services , Computer/IT Services , Engineering - Mechanical or Industrial   ',\n",
              " 'Banking',\n",
              " 'Computer Software',\n",
              " 'Information Technology Services   ',\n",
              " 'Translation and Localization   ',\n",
              " 'Consumer Services   ',\n",
              " 'Translation and Localization   ',\n",
              " 'Computer Software , Computer/IT Services , Information Technology Services   ',\n",
              " 'Computer Software , Computer/IT Services , Writing and Editing',\n",
              " 'Import and Export    , Logistics and Supply Chain    , Chemicals/Petro-Chemicals',\n",
              " 'Medical Devices and Supplies , Outsourcing/Offshoring    , Telecommunications Services',\n",
              " 'Construction - Industrial Facilities and Infrastructure , Manufacturing , Engineering - Mechanical or Industrial   ',\n",
              " 'Engineering - Mechanical or Industrial   ',\n",
              " 'Telecommunications Services',\n",
              " 'Advertising and PR Services',\n",
              " 'Market Research   ',\n",
              " 'Computer Software',\n",
              " 'Consumer Services   ',\n",
              " 'Electronics, Components, and Semiconductor Mfg , Marketing and Advertising   ',\n",
              " 'Electronics, Components, and Semiconductor Mfg , Marketing and Advertising   ',\n",
              " 'Information Technology Services    , Computer Networking    , Computer/IT Services',\n",
              " 'Computer/IT Services',\n",
              " 'Telecommunications Services',\n",
              " 'Electronics, Components, and Semiconductor Mfg',\n",
              " 'Electronics, Components, and Semiconductor Mfg , Marketing and Advertising   ',\n",
              " 'Electronics, Components, and Semiconductor Mfg',\n",
              " 'Electronics, Components, and Semiconductor Mfg , Marketing and Advertising   ',\n",
              " 'Electronics, Components, and Semiconductor Mfg , Marketing and Advertising   ',\n",
              " 'Education',\n",
              " 'Internet Services',\n",
              " 'Computer Software , Information Technology Services   ',\n",
              " 'Education , Computer Software , Graphic Design   ',\n",
              " 'Marketing and Advertising   ',\n",
              " 'Market Research   ',\n",
              " 'Education',\n",
              " 'Computer Software , Computer/IT Services',\n",
              " 'Printing and Publishing , Advertising and PR Services',\n",
              " 'Computer Software , Computer/IT Services',\n",
              " 'Computer Software , Advertising and PR Services',\n",
              " 'Computer Software , Computer/IT Services',\n",
              " 'Computer Software',\n",
              " 'Financial Services',\n",
              " 'Internet Services',\n",
              " 'Computer Software , Computer Hardware , Restaurant/Food Services',\n",
              " 'Computer/IT Services , Computer Software',\n",
              " 'Translation and Localization    , Information Technology Services   ',\n",
              " 'Import and Export    , Logistics and Supply Chain    , Chemicals/Petro-Chemicals',\n",
              " 'Telecommunications Services',\n",
              " 'Medical Devices and Supplies',\n",
              " 'Advertising and PR Services',\n",
              " 'Computer Software , Computer Hardware',\n",
              " 'Computer Software , Computer Hardware',\n",
              " 'Computer Software , Information Technology Services   ',\n",
              " 'Printing and Publishing',\n",
              " 'Construction - Residential & Commercial/Office',\n",
              " 'Computer Software , Advertising and PR Services',\n",
              " 'Telecommunications Services',\n",
              " 'Banking',\n",
              " 'Printing and Publishing',\n",
              " 'Architectural and Design Services',\n",
              " 'Advertising and PR Services , Education',\n",
              " 'Computer/IT Services , Computer and Network Security    , Computer Software',\n",
              " 'Advertising and PR Services , Marketing and Advertising   ',\n",
              " 'Telecommunications Services',\n",
              " 'Computer/IT Services , Information Technology Services   ',\n",
              " 'Computer/IT Services , Information Technology Services   ',\n",
              " 'Information Technology Services   ',\n",
              " 'Real Estate/Property Management , Consumer Services   ',\n",
              " 'Engineering - Mechanical or Industrial   ',\n",
              " 'Advertising and PR Services',\n",
              " 'Construction - Industrial Facilities and Infrastructure',\n",
              " 'Computer/IT Services , Management Consulting Services',\n",
              " 'Medical Devices and Supplies',\n",
              " 'Computer/IT Services',\n",
              " 'Telecommunications Services',\n",
              " 'Engineering Services',\n",
              " 'Internet Services , Information Technology Services   ',\n",
              " 'Computer/IT Services , Computer Software',\n",
              " 'Computer Software , Computer/IT Services',\n",
              " 'Computer Software , Computer/IT Services',\n",
              " 'Computer Software , Computer/IT Services',\n",
              " 'Computer/IT Services , Computer Software',\n",
              " 'Outsourcing/Offshoring    , Telecommunications Services',\n",
              " 'Accounting and Auditing Services',\n",
              " 'Telecommunications Services , Engineering Services',\n",
              " 'Marketing and Advertising    , Advertising and PR Services , Information Technology Services   ',\n",
              " 'Media Production    , Online Media    , Music   ',\n",
              " 'Marketing and Advertising   ',\n",
              " 'Import and Export   ',\n",
              " 'Information Technology Services   ',\n",
              " 'Online Media    , Travel, Transportation and Tourism',\n",
              " 'Computer Software',\n",
              " 'Manufacturing',\n",
              " 'Computer Software , Human Resources   ',\n",
              " 'Computer Software',\n",
              " 'Manufacturing',\n",
              " 'Manufacturing',\n",
              " 'Information Technology Services   ',\n",
              " 'Information Technology Services   ',\n",
              " 'Information Technology Services   ',\n",
              " 'Information Technology Services   ',\n",
              " 'Manufacturing',\n",
              " 'Manufacturing',\n",
              " 'Marketing and Advertising   ',\n",
              " 'Engineering Services',\n",
              " 'Medical Devices and Supplies',\n",
              " 'Retail',\n",
              " 'Retail , Engineering - Mechanical or Industrial   ',\n",
              " 'Information Technology Services    , Advertising and PR Services , Marketing and Advertising   ',\n",
              " 'Manufacturing',\n",
              " 'Information Technology Services    , Financial Services',\n",
              " 'Telecommunications Services',\n",
              " 'Outsourcing/Offshoring   ',\n",
              " 'Manufacturing',\n",
              " 'Arts and Crafts   ',\n",
              " 'Computer Software , Computer/IT Services , Information Technology Services   ',\n",
              " 'Computer Networking    , Computer/IT Services , Information Technology Services   ',\n",
              " 'Computer/IT Services',\n",
              " 'Computer/IT Services',\n",
              " 'Computer/IT Services',\n",
              " 'Computer/IT Services',\n",
              " 'Computer/IT Services',\n",
              " 'Computer Software , Computer/IT Services , Information Technology Services   ',\n",
              " 'Computer/IT Services',\n",
              " 'Computer/IT Services',\n",
              " 'Consumer Services   ',\n",
              " 'Retail , Electronics, Components, and Semiconductor Mfg',\n",
              " 'Consumer Services   ',\n",
              " 'Computer Software , Computer/IT Services',\n",
              " 'Travel, Transportation and Tourism , Airlines/Aviation   ',\n",
              " 'Information Technology Services   ',\n",
              " 'Information Technology Services   ',\n",
              " 'Advertising and PR Services',\n",
              " 'Consumer Services    , Manufacturing',\n",
              " 'Computer Software',\n",
              " 'Information Technology Services   ',\n",
              " 'Information Technology Services   ',\n",
              " 'Computer and Network Security    , Computer Software , Computer Hardware',\n",
              " 'Manufacturing',\n",
              " 'Translation and Localization    , Information Technology Services   ',\n",
              " 'Translation and Localization   ',\n",
              " 'Advertising and PR Services , Marketing and Advertising   ',\n",
              " 'Online Media   ',\n",
              " 'Telecommunications Services',\n",
              " 'Translation and Localization    , Medical Devices and Supplies , Pharmaceuticals   ',\n",
              " 'Translation and Localization   ',\n",
              " 'Computer Software , Advertising and PR Services , Computer/IT Services',\n",
              " 'Writing and Editing , Marketing and Advertising    , Research   ',\n",
              " 'Information Technology Services    , Advertising and PR Services , Marketing and Advertising   ',\n",
              " 'Consumer Services   ',\n",
              " 'Consumer Services   ',\n",
              " 'Consumer Services   ',\n",
              " 'Computer Software',\n",
              " 'Advertising and PR Services',\n",
              " 'Computer/IT Services , Computer Software',\n",
              " 'Food and Beverage Production , Dairy    , Packaging and Containers   ',\n",
              " 'Information Technology Services    , Internet Services',\n",
              " 'Government and Military , Public Policy    , Translation and Localization   ',\n",
              " 'Food and Beverage Production',\n",
              " 'Internet Services',\n",
              " 'Computer Software , Computer/IT Services',\n",
              " 'Information Technology Services    , Computer Software',\n",
              " 'Business Services - Other , Computer/IT Services',\n",
              " 'Electronics, Components, and Semiconductor Mfg , Marketing and Advertising   ',\n",
              " 'Engineering Services , Automotive Sales and Repair Services , Construction - Industrial Facilities and Infrastructure',\n",
              " 'Electronics, Components, and Semiconductor Mfg , Marketing and Advertising   ',\n",
              " 'Computer and Network Security    , Computer/IT Services',\n",
              " 'Internet Services , Information Technology Services   ',\n",
              " 'Online Media    , Travel, Transportation and Tourism',\n",
              " 'Computer Software , Computer/IT Services , Information Technology Services   ',\n",
              " 'Information Technology Services    , Computer Software , Computer/IT Services',\n",
              " 'Online Media    , Travel, Transportation and Tourism',\n",
              " 'Information Technology Services    , Computer Software',\n",
              " 'Information Technology Services    , Telecommunications Services , Computer/IT Services',\n",
              " 'Telecommunications Services , Information Technology Services   ',\n",
              " 'Information Technology Services   ',\n",
              " 'Computer Software',\n",
              " 'Business Services - Other',\n",
              " 'Business Services - Other',\n",
              " 'Retail',\n",
              " 'Engineering Services',\n",
              " 'Engineering Services',\n",
              " 'Retail , Real Estate/Property Management',\n",
              " 'Retail',\n",
              " 'Advertising and PR Services , Marketing and Advertising   ',\n",
              " 'Architectural and Design Services',\n",
              " 'Electronics, Components, and Semiconductor Mfg , Information Technology Services   ',\n",
              " 'Retail',\n",
              " 'Retail',\n",
              " 'Food and Beverage Production , Pharmaceuticals    , Cosmetics   ',\n",
              " 'Consumer Services   ',\n",
              " 'Retail',\n",
              " 'Business Services - Other',\n",
              " 'Education , Marketing and Advertising   ',\n",
              " 'Medical Devices and Supplies',\n",
              " 'Telecommunications Services',\n",
              " 'Information Technology Services   ',\n",
              " 'Information Technology Services   ',\n",
              " 'Consumer Services   ',\n",
              " 'Computer/IT Services',\n",
              " 'Arts and Crafts    , Computer Games    , Computer Software',\n",
              " 'Electronics, Components, and Semiconductor Mfg , Consumer Services   ',\n",
              " 'Engineering - Mechanical or Industrial   ',\n",
              " 'Energy and Utilities',\n",
              " 'Manufacturing',\n",
              " 'Manufacturing',\n",
              " 'Manufacturing',\n",
              " 'Graphic Design   ',\n",
              " 'Computer Software , Information Technology Services   ',\n",
              " 'Travel, Transportation and Tourism',\n",
              " 'Pharmaceuticals   ',\n",
              " 'Information Technology Services    , Computer Software',\n",
              " 'Oil and Energy   ',\n",
              " 'Telecommunications Services',\n",
              " 'Agriculture/Forestry/Fishing/Farming',\n",
              " 'Retail',\n",
              " 'Telecommunications Services',\n",
              " 'Marketing and Advertising   ',\n",
              " 'Airlines/Aviation    , Apparel and Fashion   ',\n",
              " 'Construction - Industrial Facilities and Infrastructure',\n",
              " 'Online Media    , Media Production   ',\n",
              " 'Information Technology Services    , Internet Services',\n",
              " 'Aerospace and Defense',\n",
              " 'Computer Software , Computer/IT Services , Internet Services',\n",
              " 'Computer Software , Computer/IT Services , Internet Services',\n",
              " 'Advertising and PR Services , Public Relations and Communications   ',\n",
              " 'Information Technology Services   ',\n",
              " 'Agriculture/Forestry/Fishing/Farming',\n",
              " 'Translation and Localization   ',\n",
              " 'Translation and Localization   ',\n",
              " 'Information Technology Services    , Telecommunications Services , Computer/IT Services',\n",
              " 'Computer Software , Human Resources    , Internet Services',\n",
              " 'Telecommunications Services',\n",
              " 'Banking , Financial Services',\n",
              " 'Retail',\n",
              " 'Aerospace and Defense',\n",
              " 'Information Technology Services   ',\n",
              " 'Information Technology Services   ',\n",
              " 'Internet Services , Information Technology Services    , Graphic Design   ',\n",
              " 'Internet Services , Marketing and Advertising    , Media Production   ',\n",
              " 'Internet Services , Marketing and Advertising    , Media Production   ',\n",
              " 'Manufacturing',\n",
              " 'Computer Software',\n",
              " 'Animation    , Arts and Crafts   ',\n",
              " 'Arts and Crafts   ',\n",
              " 'Telecommunications Services',\n",
              " 'Insurance',\n",
              " 'Automotive Sales and Repair Services',\n",
              " 'Manufacturing',\n",
              " 'Nonprofit Charitable Organizations',\n",
              " 'Marketing and Advertising   ',\n",
              " 'Computer Software',\n",
              " 'Information Technology Services   ',\n",
              " 'Graphic Design   ',\n",
              " 'Engineering - Mechanical or Industrial   ',\n",
              " 'Electronics, Components, and Semiconductor Mfg , Engineering - Mechanical or Industrial   ',\n",
              " 'Computer Software',\n",
              " 'Information Technology Services   ',\n",
              " 'Computer Software',\n",
              " 'Consumer Services    , Telecommunications Services',\n",
              " 'Advertising and PR Services',\n",
              " 'Advertising and PR Services , Marketing and Advertising    , Online Media   ',\n",
              " 'Computer Software , Travel, Transportation and Tourism , Marketing and Advertising   ',\n",
              " 'Computer Software , Computer/IT Services , Information Technology Services   ',\n",
              " 'Advertising and PR Services , Media Production   ',\n",
              " 'Other - Not Classified , Translation and Localization    , Consumer Services   ',\n",
              " 'Information Technology Services   ',\n",
              " 'Computer/IT Services , Information Technology Services   ',\n",
              " 'Information Technology Services    , Computer/IT Services , Computer Software',\n",
              " 'Information Technology Services    , Computer/IT Services , Computer Software',\n",
              " 'Telecommunications Services',\n",
              " 'Engineering - Mechanical or Industrial    , Engineering Services',\n",
              " 'Computer/IT Services',\n",
              " 'Education',\n",
              " 'Advertising and PR Services',\n",
              " 'Engineering - Mechanical or Industrial   ',\n",
              " 'Internet Services , Information Technology Services   ',\n",
              " 'Internet Services , Information Technology Services   ',\n",
              " 'Internet Services , Information Technology Services   ',\n",
              " 'Internet Services , Information Technology Services   ',\n",
              " 'Chemicals/Petro-Chemicals',\n",
              " 'Manufacturing',\n",
              " 'Computer Software',\n",
              " 'Business Services - Other',\n",
              " 'Business Services - Other',\n",
              " 'Business Services - Other',\n",
              " 'Business Services - Other',\n",
              " 'Manufacturing',\n",
              " 'Information Technology Services    , Internet Services',\n",
              " 'Manufacturing',\n",
              " 'Manufacturing',\n",
              " 'Telecommunications Services',\n",
              " 'Medical Devices and Supplies',\n",
              " 'Telecommunications Services',\n",
              " 'Telecommunications Services',\n",
              " 'Manufacturing',\n",
              " 'Manufacturing',\n",
              " 'Food and Beverage Production',\n",
              " 'Advertising and PR Services',\n",
              " 'Computer/IT Services , Telecommunications Services',\n",
              " 'Marketing and Advertising    , Telecommunications Services',\n",
              " 'Business Services - Other',\n",
              " 'Retail',\n",
              " 'Computer Software , Computer/IT Services',\n",
              " 'Computer Software , Computer/IT Services',\n",
              " 'Marketing and Advertising    , Business Services - Other , Computer/IT Services',\n",
              " 'Food and Beverage Production , Consumer Packaged Goods Manufacturing , Retail',\n",
              " 'Electronics, Components, and Semiconductor Mfg , Marketing and Advertising   ',\n",
              " 'Automotive Sales and Repair Services',\n",
              " 'Marketing and Advertising   ',\n",
              " 'Healthcare Services and Hospital , Insurance',\n",
              " 'Internet Services',\n",
              " 'Internet Services , Information Technology Services   ',\n",
              " 'Information Technology Services   ',\n",
              " 'Computer/IT Services , Computer Software , Information Technology Services   ',\n",
              " 'Marketing and Advertising   ',\n",
              " 'Telecommunications Services',\n",
              " 'Computer Software , Printing and Publishing , Retail',\n",
              " 'Computer Software',\n",
              " 'Healthcare Services and Hospital',\n",
              " 'Computer/IT Services',\n",
              " 'Textiles   ',\n",
              " 'Advertising and PR Services , Architectural and Design Services , Graphic Design   ',\n",
              " 'Computer Software',\n",
              " 'Financial Services',\n",
              " 'Marketing and Advertising    , Business Services - Other , Computer/IT Services',\n",
              " 'Computer/IT Services',\n",
              " 'Information Technology Services   ',\n",
              " 'Information Technology Services   ',\n",
              " 'Arts and Crafts    , Computer Games    , Computer Software',\n",
              " 'Internet Services',\n",
              " 'Information Technology Services   ',\n",
              " 'Information Technology Services   ',\n",
              " 'Telecommunications Services , Consumer Services    , Outsourcing/Offshoring   ',\n",
              " 'Consumer Services    , Public Relations and Communications   ',\n",
              " 'Marketing and Advertising    , Business Services - Other , Computer/IT Services',\n",
              " 'Outsourcing/Offshoring    , Business Services - Other',\n",
              " 'Outsourcing/Offshoring    , Telecommunications Services',\n",
              " 'Advertising and PR Services',\n",
              " 'Public Relations and Communications   ',\n",
              " 'Graphic Design   ',\n",
              " 'Graphic Design    , Online Media    , Internet Services',\n",
              " 'Translation and Localization   ',\n",
              " 'Information Technology Services   ',\n",
              " 'Logistics and Supply Chain    , Transportation/Trucking/Railroad   ',\n",
              " 'Logistics and Supply Chain    , Transportation/Trucking/Railroad   ',\n",
              " 'Medical Devices and Supplies',\n",
              " 'Fine Art    , Graphic Design   ',\n",
              " 'Information Technology Services   ',\n",
              " 'Telecommunications Services',\n",
              " 'Outsourcing/Offshoring   ',\n",
              " 'Graphic Design   ',\n",
              " 'Computer/IT Services , Computer Networking    , Information Technology Services   ',\n",
              " 'Information Technology Services   ',\n",
              " 'Information Technology Services    , Engineering Services',\n",
              " 'Information Technology Services    , Engineering Services',\n",
              " 'Information Technology Services   ',\n",
              " 'Information Technology Services   ',\n",
              " 'Information Technology Services   ',\n",
              " 'Marketing and Advertising   ',\n",
              " 'Information Technology Services   ',\n",
              " 'Information Technology Services   ',\n",
              " 'Education',\n",
              " 'Computer Software , Internet Services , Information Technology Services   ',\n",
              " 'Computer Software',\n",
              " 'Hotels and Lodging , Marketing and Advertising   ',\n",
              " 'Management Consulting Services , Real Estate/Property Management , Hotels and Lodging',\n",
              " 'Airlines/Aviation   ',\n",
              " 'Hotels and Lodging , Real Estate/Property Management , Recreational Facilities and Services   ',\n",
              " 'Telecommunications Services',\n",
              " 'Furniture    , Clothing and Textile Manufacturing , Retail',\n",
              " 'Food and Beverage Production',\n",
              " 'Dairy    , Food and Beverage Production',\n",
              " 'Outsourcing/Offshoring    , Telecommunications Services',\n",
              " 'Engineering Services',\n",
              " 'Information Technology Services   ',\n",
              " 'Engineering Services',\n",
              " 'Pharmaceuticals    , Biotechnology    , Food and Beverage Production',\n",
              " 'Apparel and Fashion   ',\n",
              " 'Automotive Sales and Repair Services',\n",
              " 'Internet Services',\n",
              " 'Internet Services',\n",
              " 'Telecommunications Services , Outsourcing/Offshoring    , Consumer Services   ',\n",
              " 'Information Technology Services    , Healthcare Services and Hospital , Computer Software',\n",
              " 'Computer/IT Services , Computer Software',\n",
              " 'Food and Beverage Production',\n",
              " 'Food and Beverage Production',\n",
              " 'Information Technology Services   ',\n",
              " 'Retail , Marketing and Advertising    , Internet Services',\n",
              " 'Architectural and Design Services , Engineering Services',\n",
              " 'Engineering Services , Architectural and Design Services',\n",
              " 'Real Estate/Property Management',\n",
              " 'Telecommunications Services',\n",
              " 'Medical Devices and Supplies',\n",
              " 'Medical Devices and Supplies',\n",
              " 'Medical Devices and Supplies',\n",
              " 'Information Technology Services   ',\n",
              " 'Automotive and Parts Manufacturing',\n",
              " 'Hotels and Lodging , Marketing and Advertising   ',\n",
              " 'Engineering - Mechanical or Industrial   ',\n",
              " 'Automotive Sales and Repair Services',\n",
              " 'Engineering - Mechanical or Industrial   ',\n",
              " 'Chemicals/Petro-Chemicals',\n",
              " 'Computer Hardware , Computer Software',\n",
              " 'Retail , Marketing and Advertising   ',\n",
              " 'Computer/IT Services',\n",
              " 'Computer/IT Services',\n",
              " 'Telecommunications Services',\n",
              " 'Business Services - Other',\n",
              " 'Financial Services',\n",
              " 'Computer Software , Computer/IT Services',\n",
              " 'Computer Software , Computer/IT Services',\n",
              " 'Public Policy    , Translation and Localization    , Government and Military',\n",
              " 'Telecommunications Services',\n",
              " 'Medical Devices and Supplies',\n",
              " 'Telecommunications Services',\n",
              " 'Telecommunications Services , Computer Software , Computer/IT Services',\n",
              " 'Computer Software , Computer/IT Services , Telecommunications Services',\n",
              " 'Consumer Services    , Telecommunications Services',\n",
              " 'Information Technology Services   ',\n",
              " 'Marketing and Advertising   ',\n",
              " 'Information Technology Services   ',\n",
              " 'Marketing and Advertising   ',\n",
              " 'Computer Software',\n",
              " 'Translation and Localization    , Human Resources   ',\n",
              " 'Computer Software , Computer/IT Services',\n",
              " 'Public Relations and Communications   ',\n",
              " 'Information Technology Services    , Internet Services',\n",
              " 'Information Technology Services   ',\n",
              " 'Engineering - Mechanical or Industrial   ',\n",
              " 'Engineering Services',\n",
              " 'Real Estate/Property Management , Engineering Services',\n",
              " 'Real Estate/Property Management , Consumer Services   ',\n",
              " 'Real Estate/Property Management',\n",
              " 'Pharmaceuticals   ',\n",
              " 'Pharmaceuticals   ',\n",
              " 'Architectural and Design Services , Computer Software',\n",
              " 'Architectural and Design Services , Computer Software',\n",
              " 'Consumer Services    , Telecommunications Services',\n",
              " 'Information Technology Services   ',\n",
              " 'Professional Training and Coaching   ',\n",
              " 'Information Technology Services   ',\n",
              " 'Computer Software , Information Technology Services   ',\n",
              " 'Computer/IT Services',\n",
              " 'Marine Manufacturing & Services',\n",
              " 'Telecommunications Services',\n",
              " 'Telecommunications Services',\n",
              " 'Telecommunications Services',\n",
              " 'Telecommunications Services',\n",
              " 'Telecommunications Services',\n",
              " 'Telecommunications Services',\n",
              " 'Telecommunications Services',\n",
              " 'Telecommunications Services',\n",
              " 'Real Estate/Property Management , Engineering Services',\n",
              " 'Computer Software',\n",
              " 'Agriculture/Forestry/Fishing/Farming',\n",
              " 'Advertising and PR Services',\n",
              " 'Consumer Services   ',\n",
              " 'Business Services - Other',\n",
              " 'Marketing and Advertising   ',\n",
              " 'Marketing and Advertising   ',\n",
              " 'Insurance , Healthcare Services and Hospital',\n",
              " 'Furniture    , Consumer Packaged Goods Manufacturing , Manufacturing',\n",
              " 'Computer/IT Services , Computer Software',\n",
              " 'Engineering - Mechanical or Industrial    , Education , Medical Devices and Supplies',\n",
              " 'Pharmaceuticals   ',\n",
              " 'Pharmaceuticals   ',\n",
              " 'Pharmaceuticals   ',\n",
              " 'Marketing and Advertising   ',\n",
              " 'Marketing and Advertising   ',\n",
              " 'Marketing and Advertising   ',\n",
              " 'Information Technology Services   ',\n",
              " 'Professional Training and Coaching   ',\n",
              " 'Information Technology Services    , Computer/IT Services , Telecommunications Services',\n",
              " 'Information Technology Services   ',\n",
              " 'Construction - Industrial Facilities and Infrastructure , Engineering - Mechanical or Industrial    , Capital Markets   ',\n",
              " 'Luxury Goods and Jewelry   ',\n",
              " 'Automotive Sales and Repair Services',\n",
              " 'Telecommunications Services',\n",
              " 'Consumer Services    , Telecommunications Services',\n",
              " 'Consumer Services   ',\n",
              " 'Automotive and Parts Manufacturing , Automotive Sales and Repair Services',\n",
              " 'Computer Software',\n",
              " 'Computer Networking   ',\n",
              " 'Telecommunications Services',\n",
              " 'Consumer Services    , Telecommunications Services',\n",
              " 'Electronics, Components, and Semiconductor Mfg , Telecommunications Services , Engineering Services',\n",
              " 'Electronics, Components, and Semiconductor Mfg , Construction - Industrial Facilities and Infrastructure , Engineering - Mechanical or Industrial   ',\n",
              " 'Computer Software',\n",
              " 'Construction - Industrial Facilities and Infrastructure',\n",
              " 'Computer Software , Computer/IT Services',\n",
              " 'Printing and Publishing',\n",
              " 'Online Media   ',\n",
              " 'Chemicals/Petro-Chemicals',\n",
              " 'Construction - Industrial Facilities and Infrastructure',\n",
              " 'Advertising and PR Services',\n",
              " 'Construction - Industrial Facilities and Infrastructure',\n",
              " 'Construction - Residential & Commercial/Office , Construction - Industrial Facilities and Infrastructure',\n",
              " 'Marketing and Advertising   ',\n",
              " 'Telecommunications Services',\n",
              " 'Marketing and Advertising    , Advertising and PR Services',\n",
              " 'Manufacturing',\n",
              " 'Manufacturing',\n",
              " 'Manufacturing',\n",
              " 'Marketing and Advertising   ',\n",
              " 'Computer Software , Computer/IT Services',\n",
              " 'Computer Software , Computer/IT Services',\n",
              " 'Business Services - Other',\n",
              " 'Financial Services , Computer/IT Services , Business Services - Other',\n",
              " 'Telecommunications Services',\n",
              " 'Media Production   ',\n",
              " 'Outsourcing/Offshoring    , Computer Software , Internet Services',\n",
              " 'Outsourcing/Offshoring    , Computer Software , Internet Services',\n",
              " 'Electronics, Components, and Semiconductor Mfg , Engineering - Mechanical or Industrial   ',\n",
              " 'Outsourcing/Offshoring    , Computer Software , Internet Services',\n",
              " 'Textiles    , Clothing and Textile Manufacturing',\n",
              " 'Media Production   ',\n",
              " 'Computer Software',\n",
              " 'Advertising and PR Services , Marketing and Advertising   ',\n",
              " 'Telecommunications Services',\n",
              " 'Architectural and Design Services , Engineering Services',\n",
              " 'Banking , Financial Services',\n",
              " 'Consumer Services    , Telecommunications Services',\n",
              " 'Healthcare Services and Hospital',\n",
              " 'Medical Devices and Supplies',\n",
              " 'Medical Devices and Supplies',\n",
              " 'Aerospace and Defense',\n",
              " 'Aerospace and Defense',\n",
              " 'Aerospace and Defense',\n",
              " 'Internet Services',\n",
              " 'Automotive and Parts Manufacturing , Automotive Sales and Repair Services',\n",
              " 'Entertainment    , Internet Services , Writing and Editing',\n",
              " 'Computer Software , Information Technology Services   ',\n",
              " 'Translation and Localization   ',\n",
              " 'Travel, Transportation and Tourism',\n",
              " 'Retail , Computer/IT Services , Information Technology Services   ',\n",
              " 'Consumer Services   ',\n",
              " 'Telecommunications Services',\n",
              " 'Computer/IT Services , Computer Software',\n",
              " 'Pharmaceuticals   ',\n",
              " 'Information Technology Services   ',\n",
              " 'Telecommunications Services',\n",
              " 'Marketing and Advertising    , Internet Services',\n",
              " 'Retail , Marketing and Advertising    , Internet Services',\n",
              " 'Internet Services , Information Technology Services   ',\n",
              " 'Pharmaceuticals   ',\n",
              " 'Outsourcing/Offshoring   ',\n",
              " 'Engineering - Mechanical or Industrial   ',\n",
              " 'Education , Professional Training and Coaching    , Computer Software',\n",
              " 'Business Services - Other , Computer/IT Services',\n",
              " 'Retail',\n",
              " 'Business Services - Other , Computer/IT Services',\n",
              " 'Banking , Capital Markets    , Outsourcing/Offshoring   ',\n",
              " 'Advertising and PR Services , Banking',\n",
              " 'Computer Software',\n",
              " 'Accounting and Auditing Services , Information Technology Services    , Business Services - Other',\n",
              " 'Information Technology Services    , Business Services - Other',\n",
              " 'Warehousing    , Wholesale Trade , Business Supplies and Equipment   ',\n",
              " 'Computer Software',\n",
              " 'Computer Software',\n",
              " 'Computer Software , Information Technology Services   ',\n",
              " 'Computer Software , Information Technology Services   ',\n",
              " 'Mining and Metals    , Oil and Energy    , Architectural and Design Services',\n",
              " 'Pharmaceuticals   ',\n",
              " 'Pharmaceuticals   ',\n",
              " 'Pharmaceuticals   ',\n",
              " 'Pharmaceuticals   ',\n",
              " 'Information Technology Services   ',\n",
              " 'Information Technology Services   ',\n",
              " 'Information Technology Services   ',\n",
              " 'Telecommunications Services',\n",
              " 'Internet Services',\n",
              " 'Computer Software , Internet Services , Information Technology Services   ',\n",
              " 'Computer Software , Internet Services , Information Technology Services   ',\n",
              " 'Marketing and Advertising   ',\n",
              " 'Computer Software , Information Technology Services    , Business Services - Other',\n",
              " 'Computer Software , Information Technology Services    , Computer/IT Services',\n",
              " 'Advertising and PR Services',\n",
              " 'Advertising and PR Services',\n",
              " 'Computer Software',\n",
              " 'Computer Software',\n",
              " 'Information Technology Services    , Financial Services',\n",
              " 'Clothing and Textile Manufacturing , Apparel and Fashion   ',\n",
              " 'Advertising and PR Services',\n",
              " 'Retail',\n",
              " 'Consumer Services   ',\n",
              " 'Pharmaceuticals    , Food and Beverage Production , Cosmetics   ',\n",
              " 'Medical Devices and Supplies',\n",
              " 'Telecommunications Services',\n",
              " 'Computer/IT Services',\n",
              " 'Computer Software , Information Technology Services   ',\n",
              " 'Consumer Services   ',\n",
              " 'Telecommunications Services , Banking , Computer Software',\n",
              " 'Travel, Transportation and Tourism',\n",
              " 'Information Technology Services    , Computer/IT Services , Computer Software',\n",
              " 'Insurance , Healthcare Services and Hospital , Health, Wellness and Fitness   ',\n",
              " 'Insurance , Healthcare Services and Hospital , Health, Wellness and Fitness   ',\n",
              " 'Information Technology Services    , Internet Services , Computer Software',\n",
              " 'Computer Software',\n",
              " 'Construction - Residential & Commercial/Office',\n",
              " 'Capital Markets    , Financial Services',\n",
              " 'Medical Devices and Supplies',\n",
              " 'Information Technology Services   ',\n",
              " 'Marketing and Advertising    , Information Technology Services   ',\n",
              " 'Engineering Services',\n",
              " 'Engineering Services',\n",
              " 'Computer Software',\n",
              " 'Telecommunications Services',\n",
              " 'Healthcare Services and Hospital',\n",
              " 'Computer Software , Engineering - Mechanical or Industrial   ',\n",
              " 'Computer Software , Human Resources   ',\n",
              " 'Consumer Services   ',\n",
              " 'Food and Beverage Production',\n",
              " 'Food and Beverage Production , Dairy   ',\n",
              " 'Graphic Design   ',\n",
              " 'Internet Services',\n",
              " 'Computer Software , Computer/IT Services , Education',\n",
              " 'Outsourcing/Offshoring    , Computer Software , Internet Services',\n",
              " 'Outsourcing/Offshoring    , Computer Software , Internet Services',\n",
              " 'Outsourcing/Offshoring    , Computer Software , Internet Services',\n",
              " 'Paper and Forest Products    , Business Services - Other',\n",
              " 'Automotive and Parts Manufacturing',\n",
              " 'Computer/IT Services',\n",
              " 'Printing and Publishing',\n",
              " 'Engineering Services',\n",
              " 'Printing and Publishing',\n",
              " 'Printing and Publishing',\n",
              " 'Marine Manufacturing & Services',\n",
              " 'Travel, Transportation and Tourism',\n",
              " 'Computer Software',\n",
              " 'Computer Software',\n",
              " 'Business Services - Other',\n",
              " 'Manufacturing , Market Research   ',\n",
              " 'Construction - Industrial Facilities and Infrastructure',\n",
              " 'Engineering - Mechanical or Industrial    , Market Research    , Public Relations and Communications   ',\n",
              " 'Computer Software , Computer/IT Services , Education',\n",
              " 'Computer/IT Services , Computer Software',\n",
              " 'Computer/IT Services , Computer Networking    , Information Technology Services   ',\n",
              " 'Computer Software',\n",
              " 'Information Technology Services   ',\n",
              " 'Information Technology Services   ',\n",
              " 'Information Technology Services    , Computer Software , Computer/IT Services',\n",
              " 'Information Technology Services    , Computer Software , Computer/IT Services',\n",
              " 'Agriculture/Forestry/Fishing/Farming',\n",
              " 'Information Technology Services    , Computer Software , Computer/IT Services',\n",
              " 'Telecommunications Services',\n",
              " 'Information Technology Services    , Computer Software , Computer/IT Services',\n",
              " 'Education',\n",
              " 'Education',\n",
              " 'Information Technology Services    , Computer Software , Computer/IT Services',\n",
              " 'Information Technology Services    , Computer Software , Computer/IT Services',\n",
              " 'Engineering Services',\n",
              " 'Entertainment    , Public Relations and Communications   ',\n",
              " 'Travel, Transportation and Tourism',\n",
              " 'Healthcare Services and Hospital , Internet Services , Information Technology Services   ',\n",
              " 'Information Technology Services    , Computer/IT Services',\n",
              " 'Computer and Network Security   ',\n",
              " 'Hotels and Lodging , Travel, Transportation and Tourism',\n",
              " 'Restaurant/Food Services',\n",
              " 'Computer Software , Telecommunications Services , Information Technology Services   ',\n",
              " 'Financial Services , Marketing and Advertising   ',\n",
              " 'Pharmaceuticals   ',\n",
              " 'Manufacturing , Textiles   ',\n",
              " 'Information Technology Services   ',\n",
              " 'Information Technology Services    , Financial Services',\n",
              " 'Fine Art    , Graphic Design   ',\n",
              " 'Computer Software',\n",
              " 'Graphic Design   ',\n",
              " 'Engineering Services',\n",
              " 'Insurance',\n",
              " 'Advertising and PR Services , Marketing and Advertising   ',\n",
              " 'Retail',\n",
              " 'Graphic Design   ',\n",
              " 'Computer Software , Consumer Electronics    , Research   ',\n",
              " 'Construction - Residential & Commercial/Office , Construction - Industrial Facilities and Infrastructure',\n",
              " 'Telecommunications Services',\n",
              " 'Advertising and PR Services',\n",
              " 'Architectural and Design Services , Engineering Services',\n",
              " 'Engineering - Mechanical or Industrial   ',\n",
              " 'Automotive and Parts Manufacturing , Architectural and Design Services',\n",
              " 'Entertainment    , Online Media   ',\n",
              " 'Outsourcing/Offshoring    , Computer Software , Internet Services',\n",
              " 'Outsourcing/Offshoring    , Computer Software , Internet Services',\n",
              " 'Outsourcing/Offshoring    , Computer Software , Internet Services',\n",
              " 'Outsourcing/Offshoring    , Computer Software , Internet Services',\n",
              " 'Engineering Services',\n",
              " 'Automotive and Parts Manufacturing , Architectural and Design Services',\n",
              " 'Automotive and Parts Manufacturing , Architectural and Design Services',\n",
              " 'Travel, Transportation and Tourism',\n",
              " 'Travel, Transportation and Tourism',\n",
              " 'Information Technology Services    , Computer Software , Computer/IT Services',\n",
              " 'Engineering - Mechanical or Industrial   ',\n",
              " 'Marketing and Advertising   ',\n",
              " 'Computer/IT Services , Information Technology Services   ',\n",
              " 'Information Technology Services    , Computer Games   ',\n",
              " 'Engineering Services',\n",
              " 'Computer Games    , Computer Software , Computer/IT Services',\n",
              " 'Computer Software',\n",
              " 'Computer/IT Services , Education',\n",
              " 'Engineering - Mechanical or Industrial    , Education , Medical Devices and Supplies',\n",
              " 'Marketing and Advertising   ',\n",
              " 'Computer/IT Services',\n",
              " 'Telecommunications Services',\n",
              " 'Telecommunications Services',\n",
              " 'Advertising and PR Services , Computer/IT Services',\n",
              " 'Consumer Services   ',\n",
              " 'Business Services - Other',\n",
              " 'Business Services - Other',\n",
              " 'Computer Software , Human Resources    , Staffing and Recruiting   ',\n",
              " 'Electronics, Components, and Semiconductor Mfg',\n",
              " 'Computer Software , Computer/IT Services',\n",
              " 'Manufacturing',\n",
              " 'Internet Services',\n",
              " 'Internet Services',\n",
              " 'Computer/IT Services , Information Technology Services   ',\n",
              " 'Computer Software , Information Technology Services   ',\n",
              " 'Health, Wellness and Fitness   ',\n",
              " 'Advertising and PR Services , Marketing and Advertising    , Media Production   ',\n",
              " 'Advertising and PR Services , Arts and Crafts    , Business Supplies and Equipment   ',\n",
              " 'Architectural and Design Services',\n",
              " 'Telecommunications Services',\n",
              " 'Media Production    , Broadcasting, Music, and Film , Music   ',\n",
              " 'Media Production    , Broadcasting, Music, and Film , Music   ',\n",
              " 'Media Production    , Broadcasting, Music, and Film , Music   ',\n",
              " 'Logistics and Supply Chain    , Business Supplies and Equipment    , Market Research   ',\n",
              " 'Dairy   ',\n",
              " 'Dairy    , Food and Beverage Production',\n",
              " 'Dairy    , Food and Beverage Production',\n",
              " 'Engineering Services',\n",
              " 'Education',\n",
              " 'Medical Devices and Supplies',\n",
              " 'Telecommunications Services',\n",
              " 'Business Services - Other',\n",
              " 'Import and Export   ',\n",
              " 'Human Resources   ',\n",
              " 'Computer/IT Services',\n",
              " 'Import and Export   ',\n",
              " 'Computer Software , Computer/IT Services , Information Technology Services   ',\n",
              " 'Computer/IT Services',\n",
              " 'Computer/IT Services , Computer Software',\n",
              " 'Marketing and Advertising   ',\n",
              " 'Marketing and Advertising   ',\n",
              " 'Engineering Services , Engineering - Mechanical or Industrial   ',\n",
              " 'Marketing and Advertising   ',\n",
              " 'Healthcare Services and Hospital , Internet Services , Information Technology Services   ',\n",
              " 'Computer/IT Services , Information Technology Services   ',\n",
              " 'Information Technology Services   ',\n",
              " 'Education',\n",
              " 'Information Technology Services    , Retail',\n",
              " 'Computer/IT Services',\n",
              " 'Information Technology Services   ',\n",
              " 'Computer/IT Services , Information Technology Services   ',\n",
              " 'Clothing and Textile Manufacturing',\n",
              " 'Computer/IT Services , Information Technology Services   ',\n",
              " 'Architectural and Design Services , Computer Software',\n",
              " 'Information Technology Services    , Computer/IT Services',\n",
              " 'Information Technology Services    , Computer Hardware , Computer/IT Services',\n",
              " 'Travel, Transportation and Tourism',\n",
              " 'Consumer Services   ',\n",
              " 'Computer Software',\n",
              " 'Telecommunications Services',\n",
              " 'Telecommunications Services',\n",
              " 'Textiles   ',\n",
              " 'Computer/IT Services',\n",
              " 'Computer/IT Services , Computer Software',\n",
              " 'Computer Software',\n",
              " 'Internet Services',\n",
              " 'Internet Services',\n",
              " 'Advertising and PR Services',\n",
              " 'Marketing and Advertising    , Engineering Services , Entertainment   ',\n",
              " 'Automotive and Parts Manufacturing , Architectural and Design Services',\n",
              " 'Marketing and Advertising    , Media Production    , Entertainment   ',\n",
              " 'Marketing and Advertising    , Media Production    , Advertising and PR Services',\n",
              " 'Marketing and Advertising    , Media Production    , Advertising and PR Services',\n",
              " 'Marketing and Advertising    , Media Production    , Architectural and Design Services',\n",
              " 'Computer Software , Information Technology Services   ',\n",
              " 'Computer Software',\n",
              " 'Pharmaceuticals   ',\n",
              " 'Venture Capital and Private Equity    , Electronics, Components, and Semiconductor Mfg , Biotechnology   ',\n",
              " 'Education',\n",
              " 'Advertising and PR Services',\n",
              " 'Computer and Network Security   ',\n",
              " 'Information Technology Services   ',\n",
              " 'Computer and Network Security    , Computer Software , Computer Hardware',\n",
              " 'Graphic Design   ',\n",
              " 'Computer Software',\n",
              " 'Healthcare Services and Hospital , Internet Services , Information Technology Services   ',\n",
              " 'Computer Software',\n",
              " 'Electronics, Components, and Semiconductor Mfg',\n",
              " 'Architectural and Design Services',\n",
              " 'Computer Software , Computer/IT Services',\n",
              " 'Financial Services',\n",
              " 'Financial Services',\n",
              " 'Financial Services',\n",
              " 'Telecommunications Services',\n",
              " 'Media Production    , Financial Services',\n",
              " 'Marketing and Advertising    , Advertising and PR Services',\n",
              " 'Information Technology Services    , Engineering Services , Computer Software',\n",
              " 'Architectural and Design Services , Information Technology Services   ',\n",
              " 'Information Technology Services   ',\n",
              " 'Education',\n",
              " 'Information Technology Services    , Computer/IT Services',\n",
              " 'Information Technology Services    , Computer/IT Services',\n",
              " 'Hotels and Lodging , Restaurant/Food Services',\n",
              " 'Marketing and Advertising   ',\n",
              " 'Information Technology Services   ',\n",
              " 'Information Technology Services   ',\n",
              " 'Information Technology Services   ',\n",
              " 'Human Resources    , Agriculture/Forestry/Fishing/Farming',\n",
              " 'Telecommunications Services',\n",
              " 'Telecommunications Services',\n",
              " 'Agriculture/Forestry/Fishing/Farming',\n",
              " 'Agriculture/Forestry/Fishing/Farming',\n",
              " 'Furniture   ',\n",
              " 'Energy and Utilities',\n",
              " 'Furniture   ',\n",
              " 'Education',\n",
              " 'Business Services - Other',\n",
              " 'Information Technology Services    , Computer/IT Services',\n",
              " 'Healthcare Services and Hospital',\n",
              " 'Education',\n",
              " 'Education',\n",
              " 'Telecommunications Services',\n",
              " 'Computer Software',\n",
              " 'Computer Software , Computer/IT Services',\n",
              " 'Healthcare Services and Hospital , Internet Services , Information Technology Services   ',\n",
              " 'Healthcare Services and Hospital , Internet Services , Information Technology Services   ',\n",
              " 'Education',\n",
              " 'Computer Software',\n",
              " 'Telecommunications Services',\n",
              " 'Information Technology Services    , Computer Software',\n",
              " 'Graphic Design   ',\n",
              " 'Marketing and Advertising    , Information Technology Services   ',\n",
              " 'Translation and Localization    , Information Technology Services   ',\n",
              " 'Wholesale Trade , Retail , Food and Beverage Production',\n",
              " 'Advertising and PR Services',\n",
              " 'Translation and Localization    , Medical Devices and Supplies , Pharmaceuticals   ',\n",
              " 'Pharmaceuticals    , Translation and Localization    , Biotechnology   ',\n",
              " 'Food and Beverage Production',\n",
              " 'Electronics, Components, and Semiconductor Mfg , Engineering - Mechanical or Industrial    , Engineering Services',\n",
              " 'Internet Services , Graphic Design   ',\n",
              " 'Computer Software , Human Resources    , Internet Services',\n",
              " 'Internet Services , Computer/IT Services , Marketing and Advertising   ',\n",
              " 'Agriculture/Forestry/Fishing/Farming , Engineering Services',\n",
              " 'Advertising and PR Services',\n",
              " 'Computer Software , Telecommunications Services',\n",
              " 'Advertising and PR Services , Writing and Editing',\n",
              " 'Computer Software , Telecommunications Services',\n",
              " 'Information Technology Services   ',\n",
              " 'Consumer Services   ',\n",
              " 'Telecommunications Services',\n",
              " 'Construction - Industrial Facilities and Infrastructure , Engineering - Mechanical or Industrial   ',\n",
              " 'Construction - Industrial Facilities and Infrastructure , Engineering - Mechanical or Industrial   ',\n",
              " 'Construction - Industrial Facilities and Infrastructure , Engineering - Mechanical or Industrial   ',\n",
              " 'Manufacturing',\n",
              " 'Construction - Industrial Facilities and Infrastructure , Engineering - Mechanical or Industrial   ',\n",
              " 'Import and Export   ',\n",
              " 'Construction - Industrial Facilities and Infrastructure , Engineering - Mechanical or Industrial   ',\n",
              " 'Construction - Industrial Facilities and Infrastructure , Engineering - Mechanical or Industrial   ',\n",
              " 'Construction - Industrial Facilities and Infrastructure , Engineering - Mechanical or Industrial   ',\n",
              " 'Information Technology Services   ',\n",
              " 'Construction - Industrial Facilities and Infrastructure , Environmental Services   ',\n",
              " 'Construction - Industrial Facilities and Infrastructure , Engineering - Mechanical or Industrial   ',\n",
              " 'Healthcare Services and Hospital , Insurance',\n",
              " 'Healthcare Services and Hospital , Insurance',\n",
              " 'Manufacturing',\n",
              " 'Computer and Network Security   ',\n",
              " 'Computer and Network Security   ',\n",
              " 'Manufacturing',\n",
              " 'Manufacturing',\n",
              " 'Manufacturing',\n",
              " 'Advertising and PR Services , Media Production   ',\n",
              " 'Manufacturing',\n",
              " 'Food and Beverage Production',\n",
              " 'Food and Beverage Production',\n",
              " 'Computer and Network Security   ',\n",
              " 'Engineering Services',\n",
              " 'Research   ',\n",
              " 'Automotive and Parts Manufacturing',\n",
              " 'Information Technology Services    , Computer Software , Computer/IT Services',\n",
              " 'Engineering Services',\n",
              " 'Telecommunications Services',\n",
              " 'Telecommunications Services',\n",
              " 'Engineering Services',\n",
              " 'Information Technology Services   ',\n",
              " 'Information Technology Services    , Internet Services',\n",
              " 'Engineering Services , Renewables and Environment    , Energy and Utilities',\n",
              " 'Energy and Utilities , Renewables and Environment    , Engineering Services',\n",
              " 'Insurance',\n",
              " 'Insurance',\n",
              " 'Healthcare Services and Hospital , Insurance',\n",
              " 'Advertising and PR Services , Business Services - Other , Consumer Services   ',\n",
              " 'Manufacturing',\n",
              " 'Manufacturing',\n",
              " 'Media Production   ',\n",
              " 'Internet Services',\n",
              " 'Computer Software',\n",
              " 'Computer Software',\n",
              " 'Arts and Crafts   ',\n",
              " 'Computer Software',\n",
              " 'Education',\n",
              " 'Internet Services , Information Technology Services   ',\n",
              " 'Insurance',\n",
              " 'Advertising and PR Services',\n",
              " 'Translation and Localization   ',\n",
              " 'Media Production   ',\n",
              " 'Education , Human Resources    , Religious Institutions   ',\n",
              " 'Architectural and Design Services',\n",
              " 'Retail',\n",
              " 'Travel, Transportation and Tourism',\n",
              " 'Computer/IT Services , Management Consulting Services',\n",
              " 'Retail',\n",
              " 'Information Technology Services   ',\n",
              " 'Information Technology Services   ',\n",
              " 'Construction - Industrial Facilities and Infrastructure',\n",
              " 'Travel, Transportation and Tourism',\n",
              " 'Biotechnology   ',\n",
              " 'Travel, Transportation and Tourism',\n",
              " 'Healthcare Services and Hospital',\n",
              " 'Banking',\n",
              " 'Computer Software , Computer/IT Services',\n",
              " 'Education , Printing and Publishing , Translation and Localization   ',\n",
              " 'Consumer Services   ',\n",
              " 'Manufacturing',\n",
              " 'Manufacturing',\n",
              " 'Engineering Services , Construction - Residential & Commercial/Office',\n",
              " 'Information Technology Services    , Computer/IT Services , Computer Software',\n",
              " 'Internet Services , Retail',\n",
              " 'Manufacturing',\n",
              " 'Construction - Industrial Facilities and Infrastructure , Engineering - Mechanical or Industrial   ',\n",
              " 'Construction - Industrial Facilities and Infrastructure',\n",
              " 'Healthcare Services and Hospital , Information Technology Services   ',\n",
              " 'Computer/IT Services',\n",
              " 'Printing and Publishing , Primary/Secondary Education   ',\n",
              " ...]"
            ]
          },
          "metadata": {
            "tags": []
          },
          "execution_count": 20
        }
      ]
    },
    {
      "cell_type": "markdown",
      "metadata": {
        "id": "XZ1GZj77JH8N"
      },
      "source": [
        "here we will insert the list in a dataframe as a string then we will convert the string into a list by split(',')"
      ]
    },
    {
      "cell_type": "code",
      "metadata": {
        "id": "quq6yLGxEThp"
      },
      "source": [
        "job_industry = pd.DataFrame(job_temp,columns=['job_industry'])\n",
        "job_industry['job_industry'] = job_industry['job_industry'].str.split(',')"
      ],
      "execution_count": null,
      "outputs": []
    },
    {
      "cell_type": "markdown",
      "metadata": {
        "id": "AKzsdQzNJMAo"
      },
      "source": [
        "Now we will remove the 3 columns and insert **job_industry**"
      ]
    },
    {
      "cell_type": "code",
      "metadata": {
        "id": "2Cb_AOn9EVq5"
      },
      "source": [
        "data_clean.pop('job_industry1')\n",
        "data_clean.pop('job_industry2')\n",
        "data_clean.pop('job_industry3')\n",
        "data_clean.insert(4,'job_industry',job_industry['job_industry'])"
      ],
      "execution_count": null,
      "outputs": []
    },
    {
      "cell_type": "markdown",
      "metadata": {
        "id": "SitbODLgLq34"
      },
      "source": [
        "\n",
        "finally let's organize the **experience_years** column to fix inconsistant data like:\n",
        "\n",
        "\"3 to 5\", \"1, 2 or 3\" ...etc\n",
        "\n",
        "to be consistant at the shpate of \"3-5\" for example."
      ]
    },
    {
      "cell_type": "code",
      "metadata": {
        "id": "CD7iiP7385gR"
      },
      "source": [
        "# A function to extract experince needed from the text\n",
        "def extract_experince(text):\n",
        "  regex = re.compile('\\d+', re.IGNORECASE)\n",
        "  years = re.findall(regex, text)\n",
        "\n",
        "  if len(years) == 1:\n",
        "    return text # if there only one numer like \"<5\" \"2\" \">10\" return the same number\n",
        "  else:\n",
        "    return f'{years[0]}-{years[-1]}' # if there are more numbers like \"1 to 2\" \"3-5\" \"3:5\" return first and last number separated by \"-\" like \"3-5\"\n",
        "\n",
        "data_clean['experience_years'] = data_clean['experience_years'].apply(extract_experince) # apply the function on every instance"
      ],
      "execution_count": null,
      "outputs": []
    },
    {
      "cell_type": "markdown",
      "metadata": {
        "id": "UKxtqMd2EAdK"
      },
      "source": [
        "Now let's check our data"
      ]
    },
    {
      "cell_type": "code",
      "metadata": {
        "id": "nbsfsg44D-gj",
        "colab": {
          "base_uri": "https://localhost:8080/",
          "height": 898
        },
        "outputId": "58d547e2-7663-4e48-b35f-6b0d06454b3f"
      },
      "source": [
        "data_clean"
      ],
      "execution_count": null,
      "outputs": [
        {
          "output_type": "execute_result",
          "data": {
            "text/html": [
              "<div>\n",
              "<style scoped>\n",
              "    .dataframe tbody tr th:only-of-type {\n",
              "        vertical-align: middle;\n",
              "    }\n",
              "\n",
              "    .dataframe tbody tr th {\n",
              "        vertical-align: top;\n",
              "    }\n",
              "\n",
              "    .dataframe thead th {\n",
              "        text-align: right;\n",
              "    }\n",
              "</style>\n",
              "<table border=\"1\" class=\"dataframe\">\n",
              "  <thead>\n",
              "    <tr style=\"text-align: right;\">\n",
              "      <th></th>\n",
              "      <th>id</th>\n",
              "      <th>city</th>\n",
              "      <th>job_title</th>\n",
              "      <th>job_category</th>\n",
              "      <th>job_industry</th>\n",
              "      <th>salary_minimum</th>\n",
              "      <th>salary_maximum</th>\n",
              "      <th>num_vacancies</th>\n",
              "      <th>career_level</th>\n",
              "      <th>experience_years</th>\n",
              "      <th>post_date</th>\n",
              "      <th>views</th>\n",
              "      <th>job_description</th>\n",
              "      <th>job_requirements</th>\n",
              "      <th>payment_period</th>\n",
              "      <th>currency</th>\n",
              "    </tr>\n",
              "  </thead>\n",
              "  <tbody>\n",
              "    <tr>\n",
              "      <th>0</th>\n",
              "      <td>516e4ed</td>\n",
              "      <td>Ciro</td>\n",
              "      <td>Sales &amp; Marketing Agent</td>\n",
              "      <td>[Sales ,  Retail ,  Business Development ,  Ma...</td>\n",
              "      <td>[Telecommunications Services]</td>\n",
              "      <td>2000</td>\n",
              "      <td>3500</td>\n",
              "      <td>8</td>\n",
              "      <td>Entry Level</td>\n",
              "      <td>0-1</td>\n",
              "      <td>2014-01-01 06:01:41</td>\n",
              "      <td>2602</td>\n",
              "      <td>Qualifications:  Demonstrates a positive, enth...</td>\n",
              "      <td>Unknown requirements</td>\n",
              "      <td>Per Month</td>\n",
              "      <td>Egyptian Pound</td>\n",
              "    </tr>\n",
              "    <tr>\n",
              "      <th>1</th>\n",
              "      <td>a361ef59</td>\n",
              "      <td>Cairo</td>\n",
              "      <td>German Training Coordinator</td>\n",
              "      <td>[Customer Service ,  Support ,  Administration...</td>\n",
              "      <td>[Translation and Localization    ,  Business S...</td>\n",
              "      <td>1000</td>\n",
              "      <td>5000</td>\n",
              "      <td>8</td>\n",
              "      <td>Entry Level</td>\n",
              "      <td>0-2</td>\n",
              "      <td>2014-01-01 20:01:18</td>\n",
              "      <td>2213</td>\n",
              "      <td>Ability to build excellent relations.Job Quali...</td>\n",
              "      <td>Unknown requirements</td>\n",
              "      <td>Per Month</td>\n",
              "      <td>Egyptian Pound</td>\n",
              "    </tr>\n",
              "    <tr>\n",
              "      <th>2</th>\n",
              "      <td>7226ce78</td>\n",
              "      <td>Cairo</td>\n",
              "      <td>Junior Software Developer</td>\n",
              "      <td>[IT ,  Software Development]</td>\n",
              "      <td>[Computer Software]</td>\n",
              "      <td>2000</td>\n",
              "      <td>2500</td>\n",
              "      <td>1</td>\n",
              "      <td>Entry Level</td>\n",
              "      <td>2</td>\n",
              "      <td>2014-01-02 11:01:03</td>\n",
              "      <td>2940</td>\n",
              "      <td>1. JOB SUMMARY\"&gt;2. SKILLS REQUIRED\"&gt;3.JOB DUTI...</td>\n",
              "      <td>Unknown requirements</td>\n",
              "      <td>Per Month</td>\n",
              "      <td>Egyptian Pound</td>\n",
              "    </tr>\n",
              "    <tr>\n",
              "      <th>3</th>\n",
              "      <td>f4b2bcd6</td>\n",
              "      <td>Cairo</td>\n",
              "      <td>Application Support Engineer</td>\n",
              "      <td>[IT ,  Software Development]</td>\n",
              "      <td>[Telecommunications Services]</td>\n",
              "      <td>2000</td>\n",
              "      <td>3500</td>\n",
              "      <td>1</td>\n",
              "      <td>Entry Level</td>\n",
              "      <td>1-2</td>\n",
              "      <td>2014-01-02 12:01:23</td>\n",
              "      <td>2042</td>\n",
              "      <td>Position, Experience and skills required:One o...</td>\n",
              "      <td>Unknown requirements</td>\n",
              "      <td>Per Month</td>\n",
              "      <td>Egyptian Pound</td>\n",
              "    </tr>\n",
              "    <tr>\n",
              "      <th>4</th>\n",
              "      <td>3fee6f73</td>\n",
              "      <td>Alexandria</td>\n",
              "      <td>Electrical Maintenance Engineer</td>\n",
              "      <td>[Engineering]</td>\n",
              "      <td>[Food and Beverage Production]</td>\n",
              "      <td>5000</td>\n",
              "      <td>8000</td>\n",
              "      <td>1</td>\n",
              "      <td>Experienced (Non-Manager)</td>\n",
              "      <td>1-3</td>\n",
              "      <td>2014-01-21 13:45:56</td>\n",
              "      <td>5684</td>\n",
              "      <td>Job Title: Electrical Maintenance EngineerLoca...</td>\n",
              "      <td>Unknown requirements</td>\n",
              "      <td>Per Month</td>\n",
              "      <td>Egyptian Pound</td>\n",
              "    </tr>\n",
              "    <tr>\n",
              "      <th>...</th>\n",
              "      <td>...</td>\n",
              "      <td>...</td>\n",
              "      <td>...</td>\n",
              "      <td>...</td>\n",
              "      <td>...</td>\n",
              "      <td>...</td>\n",
              "      <td>...</td>\n",
              "      <td>...</td>\n",
              "      <td>...</td>\n",
              "      <td>...</td>\n",
              "      <td>...</td>\n",
              "      <td>...</td>\n",
              "      <td>...</td>\n",
              "      <td>...</td>\n",
              "      <td>...</td>\n",
              "      <td>...</td>\n",
              "    </tr>\n",
              "    <tr>\n",
              "      <th>21845</th>\n",
              "      <td>cbbac897</td>\n",
              "      <td>Cairo</td>\n",
              "      <td>Creative Designer</td>\n",
              "      <td>[Creative ,  Design]</td>\n",
              "      <td>[Media Production    ,  Graphic Design    ,  A...</td>\n",
              "      <td>5000</td>\n",
              "      <td>6000</td>\n",
              "      <td>1</td>\n",
              "      <td>Experienced (Non-Manager)</td>\n",
              "      <td>1-4</td>\n",
              "      <td>2016-05-19 10:05:23</td>\n",
              "      <td>0</td>\n",
              "      <td>Participate in social media content and desig...</td>\n",
              "      <td>Superior communication skills, organized and ...</td>\n",
              "      <td>Per Month</td>\n",
              "      <td>Egyptian Pound</td>\n",
              "    </tr>\n",
              "    <tr>\n",
              "      <th>21846</th>\n",
              "      <td>7724db49</td>\n",
              "      <td>Qalyubia</td>\n",
              "      <td>Health and Safety Manager - Qalyubia</td>\n",
              "      <td>[Quality Assurance ,  Quality Control ,  Biote...</td>\n",
              "      <td>[Manufacturing ,  Import and Export   ]</td>\n",
              "      <td>5000</td>\n",
              "      <td>7000</td>\n",
              "      <td>1</td>\n",
              "      <td>Manager</td>\n",
              "      <td>5+</td>\n",
              "      <td>2016-05-19 10:05:56</td>\n",
              "      <td>6</td>\n",
              "      <td>Health and Safety Managers are also known as o...</td>\n",
              "      <td>At least 5 years of experience</td>\n",
              "      <td>Per Month</td>\n",
              "      <td>Egyptian Pound</td>\n",
              "    </tr>\n",
              "    <tr>\n",
              "      <th>21847</th>\n",
              "      <td>a6911086</td>\n",
              "      <td>Cairo</td>\n",
              "      <td>Marketing and Sales specialist</td>\n",
              "      <td>[Administration ,  Marketing ,  Sales ,  Retai...</td>\n",
              "      <td>[Architectural and Design Services ,  Construc...</td>\n",
              "      <td>2000</td>\n",
              "      <td>4000</td>\n",
              "      <td>1</td>\n",
              "      <td>Entry Level</td>\n",
              "      <td>&lt;1</td>\n",
              "      <td>2016-05-19 10:05:33</td>\n",
              "      <td>2</td>\n",
              "      <td>Job Description:Achieves marketing and sales o...</td>\n",
              "      <td>Unknown requirements</td>\n",
              "      <td>Per Month</td>\n",
              "      <td>Egyptian Pound</td>\n",
              "    </tr>\n",
              "    <tr>\n",
              "      <th>21848</th>\n",
              "      <td>6dcdc323</td>\n",
              "      <td>Cairo</td>\n",
              "      <td>E Markting</td>\n",
              "      <td>[Marketing]</td>\n",
              "      <td>[Information Technology Services    ,  Marketi...</td>\n",
              "      <td>1000</td>\n",
              "      <td>1000</td>\n",
              "      <td>2</td>\n",
              "      <td>Student</td>\n",
              "      <td>0-1</td>\n",
              "      <td>2016-05-19 10:05:56</td>\n",
              "      <td>6</td>\n",
              "      <td>We are looking for E- marketing rep-mail accou...</td>\n",
              "      <td>e-markting rep : 1-Collate and Writing daily r...</td>\n",
              "      <td>Per Month</td>\n",
              "      <td>Egyptian Pound</td>\n",
              "    </tr>\n",
              "    <tr>\n",
              "      <th>21849</th>\n",
              "      <td>eb59b18d</td>\n",
              "      <td>Cairo</td>\n",
              "      <td>Microsoft Product Manager</td>\n",
              "      <td>[IT ,  Software Development ,  Marketing ,  Sa...</td>\n",
              "      <td>[Computer/IT Services ,  Information Technolog...</td>\n",
              "      <td>6000</td>\n",
              "      <td>8000</td>\n",
              "      <td>2</td>\n",
              "      <td>Experienced (Non-Manager)</td>\n",
              "      <td>3-5</td>\n",
              "      <td>2016-05-19 10:05:15</td>\n",
              "      <td>2</td>\n",
              "      <td>- Identify new areas / lines of business that ...</td>\n",
              "      <td>Education: Bachelors degree in Electrical Engi...</td>\n",
              "      <td>Per Month</td>\n",
              "      <td>Egyptian Pound</td>\n",
              "    </tr>\n",
              "  </tbody>\n",
              "</table>\n",
              "<p>21850 rows × 16 columns</p>\n",
              "</div>"
            ],
            "text/plain": [
              "             id        city  ... payment_period        currency\n",
              "0       516e4ed        Ciro  ...      Per Month  Egyptian Pound\n",
              "1      a361ef59       Cairo  ...      Per Month  Egyptian Pound\n",
              "2      7226ce78       Cairo  ...      Per Month  Egyptian Pound\n",
              "3      f4b2bcd6       Cairo  ...      Per Month  Egyptian Pound\n",
              "4      3fee6f73  Alexandria  ...      Per Month  Egyptian Pound\n",
              "...         ...         ...  ...            ...             ...\n",
              "21845  cbbac897       Cairo  ...      Per Month  Egyptian Pound\n",
              "21846  7724db49    Qalyubia  ...      Per Month  Egyptian Pound\n",
              "21847  a6911086       Cairo  ...      Per Month  Egyptian Pound\n",
              "21848  6dcdc323       Cairo  ...      Per Month  Egyptian Pound\n",
              "21849  eb59b18d       Cairo  ...      Per Month  Egyptian Pound\n",
              "\n",
              "[21850 rows x 16 columns]"
            ]
          },
          "metadata": {
            "tags": []
          },
          "execution_count": 24
        }
      ]
    },
    {
      "cell_type": "markdown",
      "metadata": {
        "id": "YRF2bkjfNHnt"
      },
      "source": [
        "# Part 2 : visualizing the data"
      ]
    },
    {
      "cell_type": "code",
      "metadata": {
        "id": "zgNO1UZEIVjb"
      },
      "source": [
        "import seaborn as sns"
      ],
      "execution_count": null,
      "outputs": []
    },
    {
      "cell_type": "markdown",
      "metadata": {
        "id": "MtcXtqzJNPVG"
      },
      "source": [
        "now we will visualize the data\n",
        "we will visualize the **post_date** in x-axis and **views**, **num_vacancies**, **salary_maximum** and **salary_minimum**  in the y-axis "
      ]
    },
    {
      "cell_type": "code",
      "metadata": {
        "id": "G89j6_zwNH30",
        "colab": {
          "base_uri": "https://localhost:8080/",
          "height": 870
        },
        "outputId": "e5dff7cb-997a-4eb6-f362-c3fdcff117ed"
      },
      "source": [
        "df = data_clean[['views','num_vacancies',\"salary_maximum\",\"salary_minimum\"]]\n",
        "df.index = data_clean['post_date']\n",
        "df[['views']].resample('m').sum().plot(),\n",
        "df[['num_vacancies']].resample('M').sum().plot()\n",
        "df[[\"salary_maximum\",\"salary_minimum\"]].resample('M').mean().plot()\n",
        "plt.legend()"
      ],
      "execution_count": null,
      "outputs": [
        {
          "output_type": "execute_result",
          "data": {
            "text/plain": [
              "<matplotlib.legend.Legend at 0x7f6af318bb00>"
            ]
          },
          "metadata": {
            "tags": []
          },
          "execution_count": 26
        },
        {
          "output_type": "display_data",
          "data": {
            "image/png": "[encoded data removed]",
            "text/plain": [
              "<Figure size 432x288 with 1 Axes>"
            ]
          },
          "metadata": {
            "tags": [],
            "needs_background": "light"
          }
        },
        {
          "output_type": "display_data",
          "data": {
            "image/png": "[encoded data removed]",
            "text/plain": [
              "<Figure size 432x288 with 1 Axes>"
            ]
          },
          "metadata": {
            "tags": [],
            "needs_background": "light"
          }
        },
        {
          "output_type": "display_data",
          "data": {
            "image/png": "[encoded data removed]",
            "text/plain": [
              "<Figure size 432x288 with 1 Axes>"
            ]
          },
          "metadata": {
            "tags": [],
            "needs_background": "light"
          }
        }
      ]
    },
    {
      "cell_type": "markdown",
      "metadata": {
        "id": "O5kY434c7Wo0"
      },
      "source": [
        "now we want to know what is the most wanted **job industries** and **job categories**"
      ]
    },
    {
      "cell_type": "markdown",
      "metadata": {
        "id": "exa1AxT07-vM"
      },
      "source": [
        "first we will make a counter to count the frequency"
      ]
    },
    {
      "cell_type": "code",
      "metadata": {
        "id": "or13vu597R6l",
        "colab": {
          "base_uri": "https://localhost:8080/"
        },
        "outputId": "bf19cd82-7711-40ca-9142-eb3bcaf5ec26"
      },
      "source": [
        "def counter(column):\n",
        "    temp = dict()\n",
        "    for i in range(len(data_clean[column])):\n",
        "        for j in range(len(data_clean[column][i])):\n",
        "            if data_clean[column][i][j].strip() in temp :\n",
        "                temp[data_clean[column][i][j].strip()] += 1\n",
        "            else:\n",
        "                temp[data_clean[column][i][j].strip()] = 1\n",
        "    return temp\n",
        "counter(column = 'job_industry')"
      ],
      "execution_count": null,
      "outputs": [
        {
          "output_type": "execute_result",
          "data": {
            "text/plain": [
              "{'Accounting and Auditing Services': 106,\n",
              " 'Advertising and PR Services': 1419,\n",
              " 'Aerospace and Defense': 31,\n",
              " 'Agriculture/Forestry/Fishing/Farming': 208,\n",
              " 'Airlines/Aviation': 66,\n",
              " 'Alternative Medicine': 9,\n",
              " 'Animation': 90,\n",
              " 'Apparel and Fashion': 109,\n",
              " 'Architectural and Design Services': 640,\n",
              " 'Arts and Crafts': 136,\n",
              " 'Automotive Sales and Repair Services': 186,\n",
              " 'Automotive and Parts Manufacturing': 192,\n",
              " 'Aviation and Aerospace': 9,\n",
              " 'Banking': 244,\n",
              " 'Biotechnology': 54,\n",
              " 'Broadcasting': 32,\n",
              " 'Business Services - Other': 573,\n",
              " 'Business Supplies and Equipment': 91,\n",
              " 'Capital Markets': 38,\n",
              " 'Chemicals/Petro-Chemicals': 235,\n",
              " 'Clothing and Textile Manufacturing': 39,\n",
              " 'Components': 339,\n",
              " 'Computer Games': 104,\n",
              " 'Computer Hardware': 262,\n",
              " 'Computer Networking': 272,\n",
              " 'Computer Software': 3864,\n",
              " 'Computer and Network Security': 210,\n",
              " 'Computer/IT Services': 2300,\n",
              " 'Construction - Industrial Facilities and Infrastructure': 601,\n",
              " 'Construction - Residential & Commercial/Office': 578,\n",
              " 'Consumer Electronics': 114,\n",
              " 'Consumer Packaged Goods Manufacturing': 58,\n",
              " 'Consumer Services': 1058,\n",
              " 'Cosmetics': 112,\n",
              " 'Dairy': 15,\n",
              " 'Education': 875,\n",
              " 'Electronics': 339,\n",
              " 'Energy and Utilities': 197,\n",
              " 'Engineering - Mechanical or Industrial': 980,\n",
              " 'Engineering Services': 1294,\n",
              " 'Entertainment': 213,\n",
              " 'Environmental Services': 29,\n",
              " 'FMCG': 242,\n",
              " 'Financial Services': 269,\n",
              " 'Fine Art': 143,\n",
              " 'Food and Beverage Production': 340,\n",
              " 'Furniture': 177,\n",
              " 'Government and Military': 11,\n",
              " 'Graphic Design': 544,\n",
              " 'Health': 168,\n",
              " 'Healthcare Services and Hospital': 461,\n",
              " 'Higher Education': 26,\n",
              " 'Hotels and Lodging': 155,\n",
              " 'Human Resources': 244,\n",
              " 'Import and Export': 200,\n",
              " 'Information Technology Services': 3039,\n",
              " 'Insurance': 186,\n",
              " 'Internet Services': 710,\n",
              " 'Law Enforcement': 3,\n",
              " 'Legal Services': 18,\n",
              " 'Logistics and Supply Chain': 143,\n",
              " 'Luxury Goods and Jewelry': 17,\n",
              " 'Management Consulting Services': 155,\n",
              " 'Manufacturing': 774,\n",
              " 'Marine Manufacturing & Services': 38,\n",
              " 'Market Research': 255,\n",
              " 'Marketing and Advertising': 1567,\n",
              " 'Media Production': 326,\n",
              " 'Medical Devices and Supplies': 413,\n",
              " 'Military': 2,\n",
              " 'Mining and Metals': 35,\n",
              " 'Motion Pictures and Film': 13,\n",
              " 'Music': 53,\n",
              " 'Nanotechnology': 2,\n",
              " 'Nonprofit Charitable Organizations': 46,\n",
              " 'Oil and Energy': 140,\n",
              " 'Online Media': 311,\n",
              " 'Other - Not Classified': 51,\n",
              " 'Outsourcing/Offshoring': 371,\n",
              " 'Package/Freight Delivery': 41,\n",
              " 'Packaging and Containers': 44,\n",
              " 'Paper and Forest Products': 34,\n",
              " 'Performing and Fine Arts': 8,\n",
              " 'Personal and Household Services': 15,\n",
              " 'Pharmaceuticals': 463,\n",
              " 'Photography': 12,\n",
              " 'Plastics': 98,\n",
              " 'Primary/Secondary Education': 5,\n",
              " 'Printing and Publishing': 310,\n",
              " 'Professional Training and Coaching': 70,\n",
              " 'Public Policy': 2,\n",
              " 'Public Relations and Communications': 181,\n",
              " 'Real Estate/Property Management': 631,\n",
              " 'Recreational Facilities and Services': 33,\n",
              " 'Religious Institutions': 3,\n",
              " 'Renewables and Environment': 43,\n",
              " 'Research': 86,\n",
              " 'Restaurant/Food Services': 52,\n",
              " 'Retail': 444,\n",
              " 'Security and Surveillance': 127,\n",
              " 'Select': 1,\n",
              " 'Semiconductors': 2,\n",
              " 'Sports and Physical Recreation': 103,\n",
              " 'Staffing and Recruiting': 25,\n",
              " 'Supermarkets': 10,\n",
              " 'Telecommunications Services': 1457,\n",
              " 'Textiles': 70,\n",
              " 'Translation and Localization': 333,\n",
              " 'Transportation and Tourism': 449,\n",
              " 'Transportation/Trucking/Railroad': 68,\n",
              " 'Travel': 449,\n",
              " 'Venture Capital and Private Equity': 5,\n",
              " 'Veterinary': 18,\n",
              " 'Warehousing': 28,\n",
              " 'Waste Management': 7,\n",
              " 'Wellness and Fitness': 168,\n",
              " 'Wholesale Trade': 47,\n",
              " 'Wireless': 29,\n",
              " 'Writing and Editing': 121,\n",
              " 'and Film': 32,\n",
              " 'and Semiconductor Mfg': 339}"
            ]
          },
          "metadata": {
            "tags": []
          },
          "execution_count": 27
        }
      ]
    },
    {
      "cell_type": "markdown",
      "metadata": {
        "id": "OQE_-_5p-Hlm"
      },
      "source": [
        "here we will plot the industry "
      ]
    },
    {
      "cell_type": "code",
      "metadata": {
        "id": "CBFxw0VB8RM5",
        "colab": {
          "base_uri": "https://localhost:8080/",
          "height": 1000
        },
        "outputId": "9b50ed7d-4dd7-4e1c-8ebe-8d7946e98247"
      },
      "source": [
        "f, ax = plt.subplots(figsize=(12, 50))\n",
        "temp = counter('job_industry')\n",
        "industry_count = pd.DataFrame({'industry':list(temp.keys()),'counter':list(temp.values())})\n",
        "sns.barplot(x ='counter', y='industry', data=industry_count, palette=\"Set3\",\n",
        "            order=industry_count.sort_values('counter',ascending = False).industry)\n",
        "plt.show()"
      ],
      "execution_count": null,
      "outputs": [
        {
          "output_type": "display_data",
          "data": {
            "image/png": "[encoded data removed]",
            "text/plain": [
              "<Figure size 864x3600 with 1 Axes>"
            ]
          },
          "metadata": {
            "tags": [],
            "needs_background": "light"
          }
        }
      ]
    },
    {
      "cell_type": "markdown",
      "metadata": {
        "id": "VxwmoWZ3-P25"
      },
      "source": [
        "here we will plot the category"
      ]
    },
    {
      "cell_type": "code",
      "metadata": {
        "id": "Ys9IsjOY8XxF",
        "colab": {
          "base_uri": "https://localhost:8080/",
          "height": 1000
        },
        "outputId": "007d74df-f864-481a-f3d3-066b0385ecd5"
      },
      "source": [
        "f, ax = plt.subplots(figsize=(12, 20))\n",
        "temp = counter('job_category')\n",
        "category_count = pd.DataFrame({'category':list(temp.keys()),'counter':list(temp.values())})\n",
        "sns.barplot(x = 'counter', y = 'category', data = category_count, palette = \"Set3\",\n",
        "            order = category_count.sort_values('counter',ascending = False).category)\n",
        "plt.show()"
      ],
      "execution_count": null,
      "outputs": [
        {
          "output_type": "display_data",
          "data": {
            "image/png": "[encoded data removed]",
            "text/plain": [
              "<Figure size 864x1440 with 1 Axes>"
            ]
          },
          "metadata": {
            "tags": [],
            "needs_background": "light"
          }
        }
      ]
    },
    {
      "cell_type": "markdown",
      "metadata": {
        "id": "7qoEPmalYWbL"
      },
      "source": [
        "# Part 3 : Applying the algorithm"
      ]
    },
    {
      "cell_type": "markdown",
      "metadata": {
        "id": "E3MqaazHebe4"
      },
      "source": [
        "Here we are going to predict minimum salary using **Decision Tree** Algorithm\n",
        "\n",
        "we will feed the algorithm the **job_title** **job_catogery** **experience_years** and it will try to predict the minimum salary"
      ]
    },
    {
      "cell_type": "markdown",
      "metadata": {
        "id": "-4L-aM-47p8a"
      },
      "source": [
        "At this point we need to clean the data a little bit more."
      ]
    },
    {
      "cell_type": "markdown",
      "metadata": {
        "id": "tyidJcZCMO53"
      },
      "source": [
        "## Initializing X "
      ]
    },
    {
      "cell_type": "code",
      "metadata": {
        "id": "aMQzWyZFiPXs"
      },
      "source": [
        "X = pd.DataFrame({\n",
        "    'job_title': data_clean['job_title'],\n",
        "    'job_category': data_clean['job_category'],\n",
        "    'experience_years': data_clean['experience_years']\n",
        "  })"
      ],
      "execution_count": null,
      "outputs": []
    },
    {
      "cell_type": "code",
      "metadata": {
        "id": "dw1RvkISjiGY",
        "colab": {
          "base_uri": "https://localhost:8080/",
          "height": 419
        },
        "outputId": "e138a01e-7cbc-4d02-f7d1-38f6d62ffa90"
      },
      "source": [
        "X"
      ],
      "execution_count": null,
      "outputs": [
        {
          "output_type": "execute_result",
          "data": {
            "text/html": [
              "<div>\n",
              "<style scoped>\n",
              "    .dataframe tbody tr th:only-of-type {\n",
              "        vertical-align: middle;\n",
              "    }\n",
              "\n",
              "    .dataframe tbody tr th {\n",
              "        vertical-align: top;\n",
              "    }\n",
              "\n",
              "    .dataframe thead th {\n",
              "        text-align: right;\n",
              "    }\n",
              "</style>\n",
              "<table border=\"1\" class=\"dataframe\">\n",
              "  <thead>\n",
              "    <tr style=\"text-align: right;\">\n",
              "      <th></th>\n",
              "      <th>job_title</th>\n",
              "      <th>job_category</th>\n",
              "      <th>experience_years</th>\n",
              "    </tr>\n",
              "  </thead>\n",
              "  <tbody>\n",
              "    <tr>\n",
              "      <th>0</th>\n",
              "      <td>Sales &amp; Marketing Agent</td>\n",
              "      <td>[Sales ,  Retail ,  Business Development ,  Ma...</td>\n",
              "      <td>0-1</td>\n",
              "    </tr>\n",
              "    <tr>\n",
              "      <th>1</th>\n",
              "      <td>German Training Coordinator</td>\n",
              "      <td>[Customer Service ,  Support ,  Administration...</td>\n",
              "      <td>0-2</td>\n",
              "    </tr>\n",
              "    <tr>\n",
              "      <th>2</th>\n",
              "      <td>Junior Software Developer</td>\n",
              "      <td>[IT ,  Software Development]</td>\n",
              "      <td>2</td>\n",
              "    </tr>\n",
              "    <tr>\n",
              "      <th>3</th>\n",
              "      <td>Application Support Engineer</td>\n",
              "      <td>[IT ,  Software Development]</td>\n",
              "      <td>1-2</td>\n",
              "    </tr>\n",
              "    <tr>\n",
              "      <th>4</th>\n",
              "      <td>Electrical Maintenance Engineer</td>\n",
              "      <td>[Engineering]</td>\n",
              "      <td>1-3</td>\n",
              "    </tr>\n",
              "    <tr>\n",
              "      <th>...</th>\n",
              "      <td>...</td>\n",
              "      <td>...</td>\n",
              "      <td>...</td>\n",
              "    </tr>\n",
              "    <tr>\n",
              "      <th>21845</th>\n",
              "      <td>Creative Designer</td>\n",
              "      <td>[Creative ,  Design]</td>\n",
              "      <td>1-4</td>\n",
              "    </tr>\n",
              "    <tr>\n",
              "      <th>21846</th>\n",
              "      <td>Health and Safety Manager - Qalyubia</td>\n",
              "      <td>[Quality Assurance ,  Quality Control ,  Biote...</td>\n",
              "      <td>5+</td>\n",
              "    </tr>\n",
              "    <tr>\n",
              "      <th>21847</th>\n",
              "      <td>Marketing and Sales specialist</td>\n",
              "      <td>[Administration ,  Marketing ,  Sales ,  Retai...</td>\n",
              "      <td>&lt;1</td>\n",
              "    </tr>\n",
              "    <tr>\n",
              "      <th>21848</th>\n",
              "      <td>E Markting</td>\n",
              "      <td>[Marketing]</td>\n",
              "      <td>0-1</td>\n",
              "    </tr>\n",
              "    <tr>\n",
              "      <th>21849</th>\n",
              "      <td>Microsoft Product Manager</td>\n",
              "      <td>[IT ,  Software Development ,  Marketing ,  Sa...</td>\n",
              "      <td>3-5</td>\n",
              "    </tr>\n",
              "  </tbody>\n",
              "</table>\n",
              "<p>21850 rows × 3 columns</p>\n",
              "</div>"
            ],
            "text/plain": [
              "                                  job_title  ... experience_years\n",
              "0                   Sales & Marketing Agent  ...              0-1\n",
              "1              German Training Coordinator   ...              0-2\n",
              "2                Junior Software Developer   ...                2\n",
              "3              Application Support Engineer  ...              1-2\n",
              "4           Electrical Maintenance Engineer  ...              1-3\n",
              "...                                     ...  ...              ...\n",
              "21845                     Creative Designer  ...              1-4\n",
              "21846  Health and Safety Manager - Qalyubia  ...               5+\n",
              "21847        Marketing and Sales specialist  ...               <1\n",
              "21848                           E Markting   ...              0-1\n",
              "21849             Microsoft Product Manager  ...              3-5\n",
              "\n",
              "[21850 rows x 3 columns]"
            ]
          },
          "metadata": {
            "tags": []
          },
          "execution_count": 31
        }
      ]
    },
    {
      "cell_type": "markdown",
      "metadata": {
        "id": "FJu20aO6OxnY"
      },
      "source": [
        "We will need to convert the **job_category** to string for the next steps"
      ]
    },
    {
      "cell_type": "code",
      "metadata": {
        "id": "RyUctbN3O--L"
      },
      "source": [
        "# convert job_category and job_industry from list to string\n",
        "X['job_category'] = X['job_category'].apply(','.join)"
      ],
      "execution_count": null,
      "outputs": []
    },
    {
      "cell_type": "code",
      "metadata": {
        "id": "Az8dTH5pPq-o"
      },
      "source": [
        "X['job_category'] = X['job_category'].str.strip() # remove white spaces before and after the text"
      ],
      "execution_count": null,
      "outputs": []
    },
    {
      "cell_type": "code",
      "metadata": {
        "id": "fBq45YXnEbMG",
        "colab": {
          "base_uri": "https://localhost:8080/",
          "height": 419
        },
        "outputId": "69e7e507-f00c-46b8-dbfe-b4975e567e8c"
      },
      "source": [
        "X"
      ],
      "execution_count": null,
      "outputs": [
        {
          "output_type": "execute_result",
          "data": {
            "text/html": [
              "<div>\n",
              "<style scoped>\n",
              "    .dataframe tbody tr th:only-of-type {\n",
              "        vertical-align: middle;\n",
              "    }\n",
              "\n",
              "    .dataframe tbody tr th {\n",
              "        vertical-align: top;\n",
              "    }\n",
              "\n",
              "    .dataframe thead th {\n",
              "        text-align: right;\n",
              "    }\n",
              "</style>\n",
              "<table border=\"1\" class=\"dataframe\">\n",
              "  <thead>\n",
              "    <tr style=\"text-align: right;\">\n",
              "      <th></th>\n",
              "      <th>job_title</th>\n",
              "      <th>job_category</th>\n",
              "      <th>experience_years</th>\n",
              "    </tr>\n",
              "  </thead>\n",
              "  <tbody>\n",
              "    <tr>\n",
              "      <th>0</th>\n",
              "      <td>Sales &amp; Marketing Agent</td>\n",
              "      <td>Sales , Retail , Business Development , Marketing</td>\n",
              "      <td>0-1</td>\n",
              "    </tr>\n",
              "    <tr>\n",
              "      <th>1</th>\n",
              "      <td>German Training Coordinator</td>\n",
              "      <td>Customer Service , Support , Administration , ...</td>\n",
              "      <td>0-2</td>\n",
              "    </tr>\n",
              "    <tr>\n",
              "      <th>2</th>\n",
              "      <td>Junior Software Developer</td>\n",
              "      <td>IT , Software Development</td>\n",
              "      <td>2</td>\n",
              "    </tr>\n",
              "    <tr>\n",
              "      <th>3</th>\n",
              "      <td>Application Support Engineer</td>\n",
              "      <td>IT , Software Development</td>\n",
              "      <td>1-2</td>\n",
              "    </tr>\n",
              "    <tr>\n",
              "      <th>4</th>\n",
              "      <td>Electrical Maintenance Engineer</td>\n",
              "      <td>Engineering</td>\n",
              "      <td>1-3</td>\n",
              "    </tr>\n",
              "    <tr>\n",
              "      <th>...</th>\n",
              "      <td>...</td>\n",
              "      <td>...</td>\n",
              "      <td>...</td>\n",
              "    </tr>\n",
              "    <tr>\n",
              "      <th>21845</th>\n",
              "      <td>Creative Designer</td>\n",
              "      <td>Creative , Design</td>\n",
              "      <td>1-4</td>\n",
              "    </tr>\n",
              "    <tr>\n",
              "      <th>21846</th>\n",
              "      <td>Health and Safety Manager - Qalyubia</td>\n",
              "      <td>Quality Assurance , Quality Control , Biotech ...</td>\n",
              "      <td>5+</td>\n",
              "    </tr>\n",
              "    <tr>\n",
              "      <th>21847</th>\n",
              "      <td>Marketing and Sales specialist</td>\n",
              "      <td>Administration , Marketing , Sales , Retail , ...</td>\n",
              "      <td>&lt;1</td>\n",
              "    </tr>\n",
              "    <tr>\n",
              "      <th>21848</th>\n",
              "      <td>E Markting</td>\n",
              "      <td>Marketing</td>\n",
              "      <td>0-1</td>\n",
              "    </tr>\n",
              "    <tr>\n",
              "      <th>21849</th>\n",
              "      <td>Microsoft Product Manager</td>\n",
              "      <td>IT , Software Development , Marketing , Sales ...</td>\n",
              "      <td>3-5</td>\n",
              "    </tr>\n",
              "  </tbody>\n",
              "</table>\n",
              "<p>21850 rows × 3 columns</p>\n",
              "</div>"
            ],
            "text/plain": [
              "                                  job_title  ... experience_years\n",
              "0                   Sales & Marketing Agent  ...              0-1\n",
              "1              German Training Coordinator   ...              0-2\n",
              "2                Junior Software Developer   ...                2\n",
              "3              Application Support Engineer  ...              1-2\n",
              "4           Electrical Maintenance Engineer  ...              1-3\n",
              "...                                     ...  ...              ...\n",
              "21845                     Creative Designer  ...              1-4\n",
              "21846  Health and Safety Manager - Qalyubia  ...               5+\n",
              "21847        Marketing and Sales specialist  ...               <1\n",
              "21848                           E Markting   ...              0-1\n",
              "21849             Microsoft Product Manager  ...              3-5\n",
              "\n",
              "[21850 rows x 3 columns]"
            ]
          },
          "metadata": {
            "tags": []
          },
          "execution_count": 34
        }
      ]
    },
    {
      "cell_type": "markdown",
      "metadata": {
        "id": "ncswfLdZQiGV"
      },
      "source": [
        "Next we need to encode every string to a unique value so the the algorithm can work."
      ]
    },
    {
      "cell_type": "code",
      "metadata": {
        "id": "1Z1MM8ZZoaij"
      },
      "source": [
        "from sklearn.preprocessing import LabelEncoder\n",
        "# Transform string to numerical values to prepare it for decision tree algorithms.\n",
        "title_encoder = LabelEncoder()\n",
        "category_encoder = LabelEncoder()\n",
        "experince_encoder = LabelEncoder()\n",
        "\n",
        "X['job_title'] = title_encoder.fit_transform(X['job_title'])\n",
        "X['job_category'] = category_encoder.fit_transform(X['job_category'])\n",
        "X['experience_years'] = experince_encoder.fit_transform(X['experience_years'])"
      ],
      "execution_count": null,
      "outputs": []
    },
    {
      "cell_type": "markdown",
      "metadata": {
        "id": "JojFC46-QxrF"
      },
      "source": [
        "Converting X to numpy array to work with the algorithm method"
      ]
    },
    {
      "cell_type": "code",
      "metadata": {
        "id": "S40bE0FpowF9"
      },
      "source": [
        "X = X.to_numpy()"
      ],
      "execution_count": null,
      "outputs": []
    },
    {
      "cell_type": "code",
      "metadata": {
        "id": "90aae3uXQ6gN",
        "colab": {
          "base_uri": "https://localhost:8080/"
        },
        "outputId": "d73f8175-300d-41fa-82af-7e698a7925d7"
      },
      "source": [
        "X"
      ],
      "execution_count": null,
      "outputs": [
        {
          "output_type": "execute_result",
          "data": {
            "text/plain": [
              "array([[6872, 1289,   11],\n",
              "       [3183,  268,   14],\n",
              "       [4211,  623,   79],\n",
              "       ...,\n",
              "       [4823,   91,  192],\n",
              "       [2402,  859,   11],\n",
              "       [5085,  688,  116]])"
            ]
          },
          "metadata": {
            "tags": []
          },
          "execution_count": 37
        }
      ]
    },
    {
      "cell_type": "markdown",
      "metadata": {
        "id": "IHd0_BsERTT5"
      },
      "source": [
        "We will need a function to transform the input string to its equivalent integer value after being encoded"
      ]
    },
    {
      "cell_type": "code",
      "metadata": {
        "id": "k56-MwCiRhiP"
      },
      "source": [
        "def strings_to_fitted_integers(details):\n",
        "  title = title_encoder.transform([details[0]])\n",
        "  category = category_encoder.transform([details[1]])\n",
        "  experince = experince_encoder.transform([details[2]])\n",
        "\n",
        "  return np.array([title, category, experince]).reshape((1,3))"
      ],
      "execution_count": null,
      "outputs": []
    },
    {
      "cell_type": "markdown",
      "metadata": {
        "id": "b_VkkK4LRmJW"
      },
      "source": [
        "Let's try it"
      ]
    },
    {
      "cell_type": "code",
      "metadata": {
        "id": "fI_hicNNRn0S",
        "colab": {
          "base_uri": "https://localhost:8080/"
        },
        "outputId": "5feef543-9008-4ffe-f729-af0ce8c50120"
      },
      "source": [
        " strings_to_fitted_integers(['Junior PHP developer', 'IT , Software Development', '0-1'])"
      ],
      "execution_count": null,
      "outputs": [
        {
          "output_type": "execute_result",
          "data": {
            "text/plain": [
              "array([[4154,  623,   11]])"
            ]
          },
          "metadata": {
            "tags": []
          },
          "execution_count": 39
        }
      ]
    },
    {
      "cell_type": "markdown",
      "metadata": {
        "id": "lwDOy-1sMV-Z"
      },
      "source": [
        "## Initializing Y"
      ]
    },
    {
      "cell_type": "markdown",
      "metadata": {
        "id": "acq9sYqn4DFT"
      },
      "source": [
        "Before we get the salaries there are salaries by dollar and others by egyption pound.\n",
        "\n",
        "so let's convert all of them to egyption pound by (value * 7.75) \n",
        "\n",
        "*7.75 is the value of the dollar in 2014*"
      ]
    },
    {
      "cell_type": "code",
      "metadata": {
        "id": "N_Pf1K4e3417",
        "colab": {
          "base_uri": "https://localhost:8080/"
        },
        "outputId": "11ca9581-ebaa-4f6c-fd16-34645dcb1ea2"
      },
      "source": [
        "data_clean['salary_minimum'][ data_clean['currency'] == 'United States Dollar' ] = data_clean['salary_minimum'][ data_clean['currency'] == 'United States Dollar' ] * 7.75\n",
        "data_clean['salary_maximum'][ data_clean['currency'] == 'United States Dollar' ] = data_clean['salary_maximum'][ data_clean['currency'] == 'United States Dollar' ] * 7.75"
      ],
      "execution_count": null,
      "outputs": [
        {
          "output_type": "stream",
          "text": [
            "/usr/local/lib/python3.6/dist-packages/ipykernel_launcher.py:1: SettingWithCopyWarning: \n",
            "A value is trying to be set on a copy of a slice from a DataFrame\n",
            "\n",
            "See the caveats in the documentation: https://pandas.pydata.org/pandas-docs/stable/user_guide/indexing.html#returning-a-view-versus-a-copy\n",
            "  \"\"\"Entry point for launching an IPython kernel.\n",
            "/usr/local/lib/python3.6/dist-packages/ipykernel_launcher.py:2: SettingWithCopyWarning: \n",
            "A value is trying to be set on a copy of a slice from a DataFrame\n",
            "\n",
            "See the caveats in the documentation: https://pandas.pydata.org/pandas-docs/stable/user_guide/indexing.html#returning-a-view-versus-a-copy\n",
            "  \n"
          ],
          "name": "stderr"
        }
      ]
    },
    {
      "cell_type": "markdown",
      "metadata": {
        "id": "vCP1AgsNDK3q"
      },
      "source": [
        "Now we will drop the **currency** column as we don't need it any"
      ]
    },
    {
      "cell_type": "code",
      "metadata": {
        "id": "Msz0Np-hDOd3",
        "colab": {
          "base_uri": "https://localhost:8080/"
        },
        "outputId": "128c225f-d5d3-4413-bd0c-62583ef3431f"
      },
      "source": [
        "data_clean.pop('currency')"
      ],
      "execution_count": null,
      "outputs": [
        {
          "output_type": "execute_result",
          "data": {
            "text/plain": [
              "0        Egyptian Pound\n",
              "1        Egyptian Pound\n",
              "2        Egyptian Pound\n",
              "3        Egyptian Pound\n",
              "4        Egyptian Pound\n",
              "              ...      \n",
              "21845    Egyptian Pound\n",
              "21846    Egyptian Pound\n",
              "21847    Egyptian Pound\n",
              "21848    Egyptian Pound\n",
              "21849    Egyptian Pound\n",
              "Name: currency, Length: 21850, dtype: object"
            ]
          },
          "metadata": {
            "tags": []
          },
          "execution_count": 41
        }
      ]
    },
    {
      "cell_type": "markdown",
      "metadata": {
        "id": "hD2kHpoVzLfa"
      },
      "source": [
        "We also can notice that the salaries are inconsistent,\n",
        "there are some hourly salaries and monthly salaries.\n",
        "\n",
        "we will fix that by replacing every hourly plan with ( hourly value * 6 * 26)\n",
        "\n",
        "as we will assume here they all work 6 hours a day and 26 days per month."
      ]
    },
    {
      "cell_type": "code",
      "metadata": {
        "id": "MdSwXHayzSQp"
      },
      "source": [
        "data_clean['salary_minimum'][ data_clean['payment_period'] == 'Per Hour' ] = data_clean['salary_minimum'][ data_clean['payment_period'] == 'Per Hour' ] * 6 * 26\n",
        "data_clean['salary_maximum'][ data_clean['payment_period'] == 'Per Hour' ] = data_clean['salary_maximum'][ data_clean['payment_period'] == 'Per Hour' ] * 6 * 26"
      ],
      "execution_count": null,
      "outputs": []
    },
    {
      "cell_type": "markdown",
      "metadata": {
        "id": "daNo4n-qCnN1"
      },
      "source": [
        "Now we will drop the **payment_period** as we don't need it any more"
      ]
    },
    {
      "cell_type": "code",
      "metadata": {
        "id": "fNw5QwdgCwQa",
        "colab": {
          "base_uri": "https://localhost:8080/"
        },
        "outputId": "fca2eda5-019a-4a29-b6cb-de3a7bbdeb22"
      },
      "source": [
        "data_clean.pop('payment_period')"
      ],
      "execution_count": null,
      "outputs": [
        {
          "output_type": "execute_result",
          "data": {
            "text/plain": [
              "0        Per Month\n",
              "1        Per Month\n",
              "2        Per Month\n",
              "3        Per Month\n",
              "4        Per Month\n",
              "           ...    \n",
              "21845    Per Month\n",
              "21846    Per Month\n",
              "21847    Per Month\n",
              "21848    Per Month\n",
              "21849    Per Month\n",
              "Name: payment_period, Length: 21850, dtype: object"
            ]
          },
          "metadata": {
            "tags": []
          },
          "execution_count": 43
        }
      ]
    },
    {
      "cell_type": "code",
      "metadata": {
        "id": "VeKvA-uRMJwx"
      },
      "source": [
        "Y = data_clean['salary_minimum'] # the salary we are trying to predict"
      ],
      "execution_count": null,
      "outputs": []
    },
    {
      "cell_type": "code",
      "metadata": {
        "id": "Fx_nOCOpqFNT"
      },
      "source": [
        "Y = Y.astype(int) # converting Y from float to integers"
      ],
      "execution_count": null,
      "outputs": []
    },
    {
      "cell_type": "code",
      "metadata": {
        "id": "MhQ3t5WkRDB5",
        "colab": {
          "base_uri": "https://localhost:8080/"
        },
        "outputId": "9a7132c9-366b-4915-91bf-7c8b3061e714"
      },
      "source": [
        "Y"
      ],
      "execution_count": null,
      "outputs": [
        {
          "output_type": "execute_result",
          "data": {
            "text/plain": [
              "0        2000\n",
              "1        1000\n",
              "2        2000\n",
              "3        2000\n",
              "4        5000\n",
              "         ... \n",
              "21845    5000\n",
              "21846    5000\n",
              "21847    2000\n",
              "21848    1000\n",
              "21849    6000\n",
              "Name: salary_minimum, Length: 21850, dtype: int64"
            ]
          },
          "metadata": {
            "tags": []
          },
          "execution_count": 46
        }
      ]
    },
    {
      "cell_type": "markdown",
      "metadata": {
        "id": "FrhuzHgFRF7E"
      },
      "source": [
        "## Applying the algorithm"
      ]
    },
    {
      "cell_type": "code",
      "metadata": {
        "id": "dxdqjC4GYV9E"
      },
      "source": [
        "from sklearn import tree"
      ],
      "execution_count": null,
      "outputs": []
    },
    {
      "cell_type": "markdown",
      "metadata": {
        "id": "T6NNiJp4TpMx"
      },
      "source": [
        "Applying Decision Tree Algorithm"
      ]
    },
    {
      "cell_type": "code",
      "metadata": {
        "id": "YPyV8_oXmpvK"
      },
      "source": [
        "clf = tree.DecisionTreeClassifier()\n",
        "clf = clf.fit(X, Y)"
      ],
      "execution_count": null,
      "outputs": []
    },
    {
      "cell_type": "code",
      "metadata": {
        "id": "yvU2Y-3Sy8hH",
        "colab": {
          "base_uri": "https://localhost:8080/"
        },
        "outputId": "29e0af4c-7e09-4449-bf7e-d81c5eaa4181"
      },
      "source": [
        "to_predict = strings_to_fitted_integers(['Web Designer', 'Creative , Design', '3+'])\n",
        "clf.predict(to_predict)"
      ],
      "execution_count": null,
      "outputs": [
        {
          "output_type": "execute_result",
          "data": {
            "text/plain": [
              "array([1500])"
            ]
          },
          "metadata": {
            "tags": []
          },
          "execution_count": 49
        }
      ]
    },
    {
      "cell_type": "markdown",
      "metadata": {
        "id": "uH-ByielT2FE"
      },
      "source": [
        "Let's increase his experince"
      ]
    },
    {
      "cell_type": "code",
      "metadata": {
        "id": "-fr794mRT5Na",
        "colab": {
          "base_uri": "https://localhost:8080/"
        },
        "outputId": "126b68c4-d558-4824-a0ff-f22d16e138ba"
      },
      "source": [
        "to_predict = strings_to_fitted_integers(['Web Designer', 'Creative , Design', '5+'])\n",
        "clf.predict(to_predict)"
      ],
      "execution_count": null,
      "outputs": [
        {
          "output_type": "execute_result",
          "data": {
            "text/plain": [
              "array([2500])"
            ]
          },
          "metadata": {
            "tags": []
          },
          "execution_count": 50
        }
      ]
    },
    {
      "cell_type": "markdown",
      "metadata": {
        "id": "TArNWuhNOEmE"
      },
      "source": [
        "Let's see the accuracy"
      ]
    },
    {
      "cell_type": "code",
      "metadata": {
        "id": "JnWcdmAFODf0",
        "colab": {
          "base_uri": "https://localhost:8080/"
        },
        "outputId": "f471ff4e-b2ad-4cab-b751-a348b462ab8c"
      },
      "source": [
        "clf.score(X,Y)"
      ],
      "execution_count": null,
      "outputs": [
        {
          "output_type": "execute_result",
          "data": {
            "text/plain": [
              "0.8908466819221968"
            ]
          },
          "metadata": {
            "tags": []
          },
          "execution_count": 51
        }
      ]
    },
    {
      "cell_type": "markdown",
      "metadata": {
        "id": "hDzdR9x4UZm3"
      },
      "source": [
        "# End"
      ]
    }
  ]
}